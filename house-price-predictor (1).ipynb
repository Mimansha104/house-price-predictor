{
 "cells": [
  {
   "cell_type": "code",
   "execution_count": 1,
   "id": "directed-siemens",
   "metadata": {
    "_cell_guid": "b1076dfc-b9ad-4769-8c92-a6c4dae69d19",
    "_uuid": "8f2839f25d086af736a60e9eeb907d3b93b6e0e5",
    "execution": {
     "iopub.execute_input": "2021-04-14T16:16:27.453994Z",
     "iopub.status.busy": "2021-04-14T16:16:27.453314Z",
     "iopub.status.idle": "2021-04-14T16:16:27.467894Z",
     "shell.execute_reply": "2021-04-14T16:16:27.467174Z"
    },
    "papermill": {
     "duration": 0.082731,
     "end_time": "2021-04-14T16:16:27.468058",
     "exception": false,
     "start_time": "2021-04-14T16:16:27.385327",
     "status": "completed"
    },
    "tags": []
   },
   "outputs": [
    {
     "name": "stdout",
     "output_type": "stream",
     "text": [
      "/kaggle/input/bengaluru-house-price-data/Bengaluru_House_Data.csv\n"
     ]
    }
   ],
   "source": [
    "# This Python 3 environment comes with many helpful analytics libraries installed\n",
    "# It is defined by the kaggle/python Docker image: https://github.com/kaggle/docker-python\n",
    "# For example, here's several helpful packages to load\n",
    "\n",
    "import numpy as np # linear algebra\n",
    "import pandas as pd # data processing, CSV file I/O (e.g. pd.read_csv)\n",
    "\n",
    "# Input data files are available in the read-only \"../input/\" directory\n",
    "# For example, running this (by clicking run or pressing Shift+Enter) will list all files under the input directory\n",
    "\n",
    "import os\n",
    "for dirname, _, filenames in os.walk('/kaggle/input'):\n",
    "    for filename in filenames:\n",
    "        print(os.path.join(dirname, filename))\n",
    "\n",
    "# You can write up to 20GB to the current directory (/kaggle/working/) that gets preserved as output when you create a version using \"Save & Run All\" \n",
    "# You can also write temporary files to /kaggle/temp/, but they won't be saved outside of the current session"
   ]
  },
  {
   "cell_type": "code",
   "execution_count": 2,
   "id": "solar-award",
   "metadata": {
    "execution": {
     "iopub.execute_input": "2021-04-14T16:16:27.594002Z",
     "iopub.status.busy": "2021-04-14T16:16:27.593304Z",
     "iopub.status.idle": "2021-04-14T16:16:27.648643Z",
     "shell.execute_reply": "2021-04-14T16:16:27.648061Z"
    },
    "papermill": {
     "duration": 0.120086,
     "end_time": "2021-04-14T16:16:27.648822",
     "exception": false,
     "start_time": "2021-04-14T16:16:27.528736",
     "status": "completed"
    },
    "tags": []
   },
   "outputs": [],
   "source": [
    "df= pd.read_csv('/kaggle/input/bengaluru-house-price-data/Bengaluru_House_Data.csv')"
   ]
  },
  {
   "cell_type": "code",
   "execution_count": 3,
   "id": "favorite-posting",
   "metadata": {
    "execution": {
     "iopub.execute_input": "2021-04-14T16:16:27.780433Z",
     "iopub.status.busy": "2021-04-14T16:16:27.779599Z",
     "iopub.status.idle": "2021-04-14T16:16:27.782781Z",
     "shell.execute_reply": "2021-04-14T16:16:27.783278Z"
    },
    "papermill": {
     "duration": 0.071188,
     "end_time": "2021-04-14T16:16:27.783459",
     "exception": false,
     "start_time": "2021-04-14T16:16:27.712271",
     "status": "completed"
    },
    "tags": []
   },
   "outputs": [
    {
     "data": {
      "text/plain": [
       "(13320, 9)"
      ]
     },
     "execution_count": 3,
     "metadata": {},
     "output_type": "execute_result"
    }
   ],
   "source": [
    "df.shape"
   ]
  },
  {
   "cell_type": "code",
   "execution_count": 4,
   "id": "swedish-behalf",
   "metadata": {
    "execution": {
     "iopub.execute_input": "2021-04-14T16:16:27.909361Z",
     "iopub.status.busy": "2021-04-14T16:16:27.908645Z",
     "iopub.status.idle": "2021-04-14T16:16:27.943690Z",
     "shell.execute_reply": "2021-04-14T16:16:27.943136Z"
    },
    "papermill": {
     "duration": 0.09826,
     "end_time": "2021-04-14T16:16:27.943839",
     "exception": false,
     "start_time": "2021-04-14T16:16:27.845579",
     "status": "completed"
    },
    "tags": []
   },
   "outputs": [
    {
     "data": {
      "text/html": [
       "<div>\n",
       "<style scoped>\n",
       "    .dataframe tbody tr th:only-of-type {\n",
       "        vertical-align: middle;\n",
       "    }\n",
       "\n",
       "    .dataframe tbody tr th {\n",
       "        vertical-align: top;\n",
       "    }\n",
       "\n",
       "    .dataframe thead th {\n",
       "        text-align: right;\n",
       "    }\n",
       "</style>\n",
       "<table border=\"1\" class=\"dataframe\">\n",
       "  <thead>\n",
       "    <tr style=\"text-align: right;\">\n",
       "      <th></th>\n",
       "      <th>area_type</th>\n",
       "      <th>availability</th>\n",
       "      <th>location</th>\n",
       "      <th>size</th>\n",
       "      <th>society</th>\n",
       "      <th>total_sqft</th>\n",
       "      <th>bath</th>\n",
       "      <th>balcony</th>\n",
       "      <th>price</th>\n",
       "    </tr>\n",
       "  </thead>\n",
       "  <tbody>\n",
       "    <tr>\n",
       "      <th>2654</th>\n",
       "      <td>Plot  Area</td>\n",
       "      <td>Ready To Move</td>\n",
       "      <td>Kurubarahalli</td>\n",
       "      <td>4 Bedroom</td>\n",
       "      <td>NaN</td>\n",
       "      <td>450</td>\n",
       "      <td>3.0</td>\n",
       "      <td>1.0</td>\n",
       "      <td>53.00</td>\n",
       "    </tr>\n",
       "    <tr>\n",
       "      <th>3939</th>\n",
       "      <td>Super built-up  Area</td>\n",
       "      <td>Ready To Move</td>\n",
       "      <td>Thigalarapalya</td>\n",
       "      <td>2 BHK</td>\n",
       "      <td>NaN</td>\n",
       "      <td>1418</td>\n",
       "      <td>2.0</td>\n",
       "      <td>2.0</td>\n",
       "      <td>103.00</td>\n",
       "    </tr>\n",
       "    <tr>\n",
       "      <th>10516</th>\n",
       "      <td>Built-up  Area</td>\n",
       "      <td>Ready To Move</td>\n",
       "      <td>Sarjapur  Road</td>\n",
       "      <td>2 BHK</td>\n",
       "      <td>Usquaya</td>\n",
       "      <td>1045</td>\n",
       "      <td>2.0</td>\n",
       "      <td>2.0</td>\n",
       "      <td>42.15</td>\n",
       "    </tr>\n",
       "    <tr>\n",
       "      <th>12032</th>\n",
       "      <td>Plot  Area</td>\n",
       "      <td>Ready To Move</td>\n",
       "      <td>Xavier Layout</td>\n",
       "      <td>3 Bedroom</td>\n",
       "      <td>NaN</td>\n",
       "      <td>1524</td>\n",
       "      <td>4.0</td>\n",
       "      <td>2.0</td>\n",
       "      <td>400.00</td>\n",
       "    </tr>\n",
       "    <tr>\n",
       "      <th>305</th>\n",
       "      <td>Super built-up  Area</td>\n",
       "      <td>Ready To Move</td>\n",
       "      <td>AECS Layout</td>\n",
       "      <td>2 BHK</td>\n",
       "      <td>Soran U</td>\n",
       "      <td>1100</td>\n",
       "      <td>2.0</td>\n",
       "      <td>3.0</td>\n",
       "      <td>45.00</td>\n",
       "    </tr>\n",
       "  </tbody>\n",
       "</table>\n",
       "</div>"
      ],
      "text/plain": [
       "                  area_type   availability        location       size  \\\n",
       "2654             Plot  Area  Ready To Move   Kurubarahalli  4 Bedroom   \n",
       "3939   Super built-up  Area  Ready To Move  Thigalarapalya      2 BHK   \n",
       "10516        Built-up  Area  Ready To Move  Sarjapur  Road      2 BHK   \n",
       "12032            Plot  Area  Ready To Move   Xavier Layout  3 Bedroom   \n",
       "305    Super built-up  Area  Ready To Move     AECS Layout      2 BHK   \n",
       "\n",
       "       society total_sqft  bath  balcony   price  \n",
       "2654       NaN        450   3.0      1.0   53.00  \n",
       "3939       NaN       1418   2.0      2.0  103.00  \n",
       "10516  Usquaya       1045   2.0      2.0   42.15  \n",
       "12032      NaN       1524   4.0      2.0  400.00  \n",
       "305    Soran U       1100   2.0      3.0   45.00  "
      ]
     },
     "execution_count": 4,
     "metadata": {},
     "output_type": "execute_result"
    }
   ],
   "source": [
    "df.sample(5)"
   ]
  },
  {
   "cell_type": "code",
   "execution_count": 5,
   "id": "sonic-helena",
   "metadata": {
    "execution": {
     "iopub.execute_input": "2021-04-14T16:16:28.071704Z",
     "iopub.status.busy": "2021-04-14T16:16:28.070699Z",
     "iopub.status.idle": "2021-04-14T16:16:28.077765Z",
     "shell.execute_reply": "2021-04-14T16:16:28.077236Z"
    },
    "papermill": {
     "duration": 0.071595,
     "end_time": "2021-04-14T16:16:28.077911",
     "exception": false,
     "start_time": "2021-04-14T16:16:28.006316",
     "status": "completed"
    },
    "tags": []
   },
   "outputs": [
    {
     "data": {
      "text/plain": [
       "array(['Electronic City Phase II', 'Chikka Tirupathi', 'Uttarahalli', ...,\n",
       "       'Raja Rajeshwari Nagar', 'Padmanabhanagar', 'Doddathoguru'],\n",
       "      dtype=object)"
      ]
     },
     "execution_count": 5,
     "metadata": {},
     "output_type": "execute_result"
    }
   ],
   "source": [
    "df['location'].values"
   ]
  },
  {
   "cell_type": "code",
   "execution_count": 6,
   "id": "turkish-template",
   "metadata": {
    "execution": {
     "iopub.execute_input": "2021-04-14T16:16:28.211111Z",
     "iopub.status.busy": "2021-04-14T16:16:28.210022Z",
     "iopub.status.idle": "2021-04-14T16:16:28.239124Z",
     "shell.execute_reply": "2021-04-14T16:16:28.238529Z"
    },
    "papermill": {
     "duration": 0.098819,
     "end_time": "2021-04-14T16:16:28.239288",
     "exception": false,
     "start_time": "2021-04-14T16:16:28.140469",
     "status": "completed"
    },
    "tags": []
   },
   "outputs": [
    {
     "data": {
      "text/plain": [
       "False    12791\n",
       "True       529\n",
       "dtype: int64"
      ]
     },
     "execution_count": 6,
     "metadata": {},
     "output_type": "execute_result"
    }
   ],
   "source": [
    "df.duplicated().value_counts()"
   ]
  },
  {
   "cell_type": "code",
   "execution_count": 7,
   "id": "alert-store",
   "metadata": {
    "execution": {
     "iopub.execute_input": "2021-04-14T16:16:28.370052Z",
     "iopub.status.busy": "2021-04-14T16:16:28.369250Z",
     "iopub.status.idle": "2021-04-14T16:16:28.385590Z",
     "shell.execute_reply": "2021-04-14T16:16:28.386213Z"
    },
    "papermill": {
     "duration": 0.084239,
     "end_time": "2021-04-14T16:16:28.386406",
     "exception": false,
     "start_time": "2021-04-14T16:16:28.302167",
     "status": "completed"
    },
    "tags": []
   },
   "outputs": [],
   "source": [
    "df.drop_duplicates(keep='first',inplace=True)"
   ]
  },
  {
   "cell_type": "code",
   "execution_count": 8,
   "id": "vulnerable-uganda",
   "metadata": {
    "execution": {
     "iopub.execute_input": "2021-04-14T16:16:28.513942Z",
     "iopub.status.busy": "2021-04-14T16:16:28.513263Z",
     "iopub.status.idle": "2021-04-14T16:16:28.532273Z",
     "shell.execute_reply": "2021-04-14T16:16:28.532756Z"
    },
    "papermill": {
     "duration": 0.084389,
     "end_time": "2021-04-14T16:16:28.532937",
     "exception": false,
     "start_time": "2021-04-14T16:16:28.448548",
     "status": "completed"
    },
    "tags": []
   },
   "outputs": [
    {
     "data": {
      "text/plain": [
       "0"
      ]
     },
     "execution_count": 8,
     "metadata": {},
     "output_type": "execute_result"
    }
   ],
   "source": [
    "df.duplicated().sum()"
   ]
  },
  {
   "cell_type": "code",
   "execution_count": 9,
   "id": "referenced-evolution",
   "metadata": {
    "execution": {
     "iopub.execute_input": "2021-04-14T16:16:28.661664Z",
     "iopub.status.busy": "2021-04-14T16:16:28.661050Z",
     "iopub.status.idle": "2021-04-14T16:16:28.665503Z",
     "shell.execute_reply": "2021-04-14T16:16:28.666056Z"
    },
    "papermill": {
     "duration": 0.070184,
     "end_time": "2021-04-14T16:16:28.666236",
     "exception": false,
     "start_time": "2021-04-14T16:16:28.596052",
     "status": "completed"
    },
    "tags": []
   },
   "outputs": [
    {
     "data": {
      "text/plain": [
       "(12791, 9)"
      ]
     },
     "execution_count": 9,
     "metadata": {},
     "output_type": "execute_result"
    }
   ],
   "source": [
    "df.shape"
   ]
  },
  {
   "cell_type": "code",
   "execution_count": 10,
   "id": "undefined-consortium",
   "metadata": {
    "execution": {
     "iopub.execute_input": "2021-04-14T16:16:28.825126Z",
     "iopub.status.busy": "2021-04-14T16:16:28.824348Z",
     "iopub.status.idle": "2021-04-14T16:16:28.849269Z",
     "shell.execute_reply": "2021-04-14T16:16:28.850246Z"
    },
    "papermill": {
     "duration": 0.111699,
     "end_time": "2021-04-14T16:16:28.850510",
     "exception": false,
     "start_time": "2021-04-14T16:16:28.738811",
     "status": "completed"
    },
    "tags": []
   },
   "outputs": [
    {
     "name": "stdout",
     "output_type": "stream",
     "text": [
      "<class 'pandas.core.frame.DataFrame'>\n",
      "Int64Index: 12791 entries, 0 to 13318\n",
      "Data columns (total 9 columns):\n",
      " #   Column        Non-Null Count  Dtype  \n",
      "---  ------        --------------  -----  \n",
      " 0   area_type     12791 non-null  object \n",
      " 1   availability  12791 non-null  object \n",
      " 2   location      12790 non-null  object \n",
      " 3   size          12775 non-null  object \n",
      " 4   society       7463 non-null   object \n",
      " 5   total_sqft    12791 non-null  object \n",
      " 6   bath          12718 non-null  float64\n",
      " 7   balcony       12186 non-null  float64\n",
      " 8   price         12791 non-null  float64\n",
      "dtypes: float64(3), object(6)\n",
      "memory usage: 999.3+ KB\n"
     ]
    }
   ],
   "source": [
    "df.info()"
   ]
  },
  {
   "cell_type": "code",
   "execution_count": 11,
   "id": "mature-reputation",
   "metadata": {
    "execution": {
     "iopub.execute_input": "2021-04-14T16:16:28.983788Z",
     "iopub.status.busy": "2021-04-14T16:16:28.983106Z",
     "iopub.status.idle": "2021-04-14T16:16:28.999727Z",
     "shell.execute_reply": "2021-04-14T16:16:28.999157Z"
    },
    "papermill": {
     "duration": 0.083522,
     "end_time": "2021-04-14T16:16:28.999882",
     "exception": false,
     "start_time": "2021-04-14T16:16:28.916360",
     "status": "completed"
    },
    "tags": []
   },
   "outputs": [
    {
     "data": {
      "text/plain": [
       "area_type          0\n",
       "availability       0\n",
       "location           1\n",
       "size              16\n",
       "society         5328\n",
       "total_sqft         0\n",
       "bath              73\n",
       "balcony          605\n",
       "price              0\n",
       "dtype: int64"
      ]
     },
     "execution_count": 11,
     "metadata": {},
     "output_type": "execute_result"
    }
   ],
   "source": [
    "df.isnull().sum()"
   ]
  },
  {
   "cell_type": "code",
   "execution_count": 12,
   "id": "wrong-default",
   "metadata": {
    "execution": {
     "iopub.execute_input": "2021-04-14T16:16:29.132109Z",
     "iopub.status.busy": "2021-04-14T16:16:29.131453Z",
     "iopub.status.idle": "2021-04-14T16:16:29.146116Z",
     "shell.execute_reply": "2021-04-14T16:16:29.145361Z"
    },
    "papermill": {
     "duration": 0.08132,
     "end_time": "2021-04-14T16:16:29.146273",
     "exception": false,
     "start_time": "2021-04-14T16:16:29.064953",
     "status": "completed"
    },
    "tags": []
   },
   "outputs": [
    {
     "data": {
      "text/plain": [
       "GrrvaGr    68\n",
       "PrarePa    63\n",
       "Sryalan    56\n",
       "Prtates    54\n",
       "GMown E    52\n",
       "           ..\n",
       "DSidePr     1\n",
       "Adsia F     1\n",
       "Darsh S     1\n",
       "Niateki     1\n",
       "Sancyi      1\n",
       "Name: society, Length: 2688, dtype: int64"
      ]
     },
     "execution_count": 12,
     "metadata": {},
     "output_type": "execute_result"
    }
   ],
   "source": [
    "df['society'].value_counts()"
   ]
  },
  {
   "cell_type": "code",
   "execution_count": 13,
   "id": "accepting-killer",
   "metadata": {
    "execution": {
     "iopub.execute_input": "2021-04-14T16:16:29.294423Z",
     "iopub.status.busy": "2021-04-14T16:16:29.293424Z",
     "iopub.status.idle": "2021-04-14T16:16:29.298913Z",
     "shell.execute_reply": "2021-04-14T16:16:29.298182Z"
    },
    "papermill": {
     "duration": 0.086875,
     "end_time": "2021-04-14T16:16:29.299056",
     "exception": false,
     "start_time": "2021-04-14T16:16:29.212181",
     "status": "completed"
    },
    "tags": []
   },
   "outputs": [
    {
     "data": {
      "text/html": [
       "<div>\n",
       "<style scoped>\n",
       "    .dataframe tbody tr th:only-of-type {\n",
       "        vertical-align: middle;\n",
       "    }\n",
       "\n",
       "    .dataframe tbody tr th {\n",
       "        vertical-align: top;\n",
       "    }\n",
       "\n",
       "    .dataframe thead th {\n",
       "        text-align: right;\n",
       "    }\n",
       "</style>\n",
       "<table border=\"1\" class=\"dataframe\">\n",
       "  <thead>\n",
       "    <tr style=\"text-align: right;\">\n",
       "      <th></th>\n",
       "      <th>area_type</th>\n",
       "      <th>availability</th>\n",
       "      <th>location</th>\n",
       "      <th>size</th>\n",
       "      <th>society</th>\n",
       "      <th>total_sqft</th>\n",
       "      <th>bath</th>\n",
       "      <th>balcony</th>\n",
       "      <th>price</th>\n",
       "    </tr>\n",
       "  </thead>\n",
       "  <tbody>\n",
       "    <tr>\n",
       "      <th>0</th>\n",
       "      <td>Super built-up  Area</td>\n",
       "      <td>19-Dec</td>\n",
       "      <td>Electronic City Phase II</td>\n",
       "      <td>2 BHK</td>\n",
       "      <td>Coomee</td>\n",
       "      <td>1056</td>\n",
       "      <td>2.0</td>\n",
       "      <td>1.0</td>\n",
       "      <td>39.07</td>\n",
       "    </tr>\n",
       "    <tr>\n",
       "      <th>1</th>\n",
       "      <td>Plot  Area</td>\n",
       "      <td>Ready To Move</td>\n",
       "      <td>Chikka Tirupathi</td>\n",
       "      <td>4 Bedroom</td>\n",
       "      <td>Theanmp</td>\n",
       "      <td>2600</td>\n",
       "      <td>5.0</td>\n",
       "      <td>3.0</td>\n",
       "      <td>120.00</td>\n",
       "    </tr>\n",
       "    <tr>\n",
       "      <th>2</th>\n",
       "      <td>Built-up  Area</td>\n",
       "      <td>Ready To Move</td>\n",
       "      <td>Uttarahalli</td>\n",
       "      <td>3 BHK</td>\n",
       "      <td>NaN</td>\n",
       "      <td>1440</td>\n",
       "      <td>2.0</td>\n",
       "      <td>3.0</td>\n",
       "      <td>62.00</td>\n",
       "    </tr>\n",
       "    <tr>\n",
       "      <th>3</th>\n",
       "      <td>Super built-up  Area</td>\n",
       "      <td>Ready To Move</td>\n",
       "      <td>Lingadheeranahalli</td>\n",
       "      <td>3 BHK</td>\n",
       "      <td>Soiewre</td>\n",
       "      <td>1521</td>\n",
       "      <td>3.0</td>\n",
       "      <td>1.0</td>\n",
       "      <td>95.00</td>\n",
       "    </tr>\n",
       "    <tr>\n",
       "      <th>4</th>\n",
       "      <td>Super built-up  Area</td>\n",
       "      <td>Ready To Move</td>\n",
       "      <td>Kothanur</td>\n",
       "      <td>2 BHK</td>\n",
       "      <td>NaN</td>\n",
       "      <td>1200</td>\n",
       "      <td>2.0</td>\n",
       "      <td>1.0</td>\n",
       "      <td>51.00</td>\n",
       "    </tr>\n",
       "  </tbody>\n",
       "</table>\n",
       "</div>"
      ],
      "text/plain": [
       "              area_type   availability                  location       size  \\\n",
       "0  Super built-up  Area         19-Dec  Electronic City Phase II      2 BHK   \n",
       "1            Plot  Area  Ready To Move          Chikka Tirupathi  4 Bedroom   \n",
       "2        Built-up  Area  Ready To Move               Uttarahalli      3 BHK   \n",
       "3  Super built-up  Area  Ready To Move        Lingadheeranahalli      3 BHK   \n",
       "4  Super built-up  Area  Ready To Move                  Kothanur      2 BHK   \n",
       "\n",
       "   society total_sqft  bath  balcony   price  \n",
       "0  Coomee        1056   2.0      1.0   39.07  \n",
       "1  Theanmp       2600   5.0      3.0  120.00  \n",
       "2      NaN       1440   2.0      3.0   62.00  \n",
       "3  Soiewre       1521   3.0      1.0   95.00  \n",
       "4      NaN       1200   2.0      1.0   51.00  "
      ]
     },
     "execution_count": 13,
     "metadata": {},
     "output_type": "execute_result"
    }
   ],
   "source": [
    "df.head()"
   ]
  },
  {
   "cell_type": "code",
   "execution_count": 14,
   "id": "flush-sender",
   "metadata": {
    "execution": {
     "iopub.execute_input": "2021-04-14T16:16:29.440580Z",
     "iopub.status.busy": "2021-04-14T16:16:29.439546Z",
     "iopub.status.idle": "2021-04-14T16:16:29.444973Z",
     "shell.execute_reply": "2021-04-14T16:16:29.444404Z"
    },
    "papermill": {
     "duration": 0.080808,
     "end_time": "2021-04-14T16:16:29.445112",
     "exception": false,
     "start_time": "2021-04-14T16:16:29.364304",
     "status": "completed"
    },
    "tags": []
   },
   "outputs": [
    {
     "data": {
      "text/plain": [
       "Super built-up  Area    8317\n",
       "Built-up  Area          2398\n",
       "Plot  Area              1989\n",
       "Carpet  Area              87\n",
       "Name: area_type, dtype: int64"
      ]
     },
     "execution_count": 14,
     "metadata": {},
     "output_type": "execute_result"
    }
   ],
   "source": [
    "df['area_type'].value_counts()"
   ]
  },
  {
   "cell_type": "code",
   "execution_count": 15,
   "id": "described-battle",
   "metadata": {
    "execution": {
     "iopub.execute_input": "2021-04-14T16:16:29.587976Z",
     "iopub.status.busy": "2021-04-14T16:16:29.587017Z",
     "iopub.status.idle": "2021-04-14T16:16:29.592270Z",
     "shell.execute_reply": "2021-04-14T16:16:29.591722Z"
    },
    "papermill": {
     "duration": 0.081592,
     "end_time": "2021-04-14T16:16:29.592407",
     "exception": false,
     "start_time": "2021-04-14T16:16:29.510815",
     "status": "completed"
    },
    "tags": []
   },
   "outputs": [
    {
     "data": {
      "text/plain": [
       "Ready To Move    10172\n",
       "18-May             292\n",
       "18-Dec             284\n",
       "18-Apr             269\n",
       "18-Aug             187\n",
       "                 ...  \n",
       "14-Jul               1\n",
       "16-Jul               1\n",
       "14-Nov               1\n",
       "15-Aug               1\n",
       "17-Jan               1\n",
       "Name: availability, Length: 81, dtype: int64"
      ]
     },
     "execution_count": 15,
     "metadata": {},
     "output_type": "execute_result"
    }
   ],
   "source": [
    "df['availability'].value_counts()"
   ]
  },
  {
   "cell_type": "code",
   "execution_count": 16,
   "id": "matched-procurement",
   "metadata": {
    "execution": {
     "iopub.execute_input": "2021-04-14T16:16:29.735069Z",
     "iopub.status.busy": "2021-04-14T16:16:29.734288Z",
     "iopub.status.idle": "2021-04-14T16:16:29.742933Z",
     "shell.execute_reply": "2021-04-14T16:16:29.742191Z"
    },
    "papermill": {
     "duration": 0.083219,
     "end_time": "2021-04-14T16:16:29.743097",
     "exception": false,
     "start_time": "2021-04-14T16:16:29.659878",
     "status": "completed"
    },
    "tags": []
   },
   "outputs": [
    {
     "data": {
      "text/plain": [
       "Whitefield                            523\n",
       "Sarjapur  Road                        379\n",
       "Electronic City                       287\n",
       "Kanakpura Road                        249\n",
       "Thanisandra                           229\n",
       "                                     ... \n",
       "near Ramanashree California resort      1\n",
       "Gubbi Cross, Hennur Main Road           1\n",
       "Chickpet                                1\n",
       "Marathi Layout                          1\n",
       "Anantapuram                             1\n",
       "Name: location, Length: 1305, dtype: int64"
      ]
     },
     "execution_count": 16,
     "metadata": {},
     "output_type": "execute_result"
    }
   ],
   "source": [
    "df['location'].value_counts()"
   ]
  },
  {
   "cell_type": "code",
   "execution_count": 17,
   "id": "contrary-supplement",
   "metadata": {
    "execution": {
     "iopub.execute_input": "2021-04-14T16:16:29.890162Z",
     "iopub.status.busy": "2021-04-14T16:16:29.889447Z",
     "iopub.status.idle": "2021-04-14T16:16:29.894511Z",
     "shell.execute_reply": "2021-04-14T16:16:29.893922Z"
    },
    "papermill": {
     "duration": 0.083559,
     "end_time": "2021-04-14T16:16:29.894689",
     "exception": false,
     "start_time": "2021-04-14T16:16:29.811130",
     "status": "completed"
    },
    "tags": []
   },
   "outputs": [
    {
     "data": {
      "text/plain": [
       "2 BHK         4931\n",
       "3 BHK         4120\n",
       "4 Bedroom      824\n",
       "4 BHK          574\n",
       "3 Bedroom      535\n",
       "1 BHK          521\n",
       "2 Bedroom      314\n",
       "5 Bedroom      291\n",
       "6 Bedroom      191\n",
       "1 Bedroom      104\n",
       "8 Bedroom       84\n",
       "7 Bedroom       82\n",
       "5 BHK           59\n",
       "9 Bedroom       46\n",
       "6 BHK           30\n",
       "7 BHK           17\n",
       "1 RK            13\n",
       "10 Bedroom      12\n",
       "9 BHK            8\n",
       "8 BHK            5\n",
       "11 Bedroom       2\n",
       "11 BHK           2\n",
       "10 BHK           2\n",
       "19 BHK           1\n",
       "27 BHK           1\n",
       "13 BHK           1\n",
       "43 Bedroom       1\n",
       "16 BHK           1\n",
       "18 Bedroom       1\n",
       "12 Bedroom       1\n",
       "14 BHK           1\n",
       "Name: size, dtype: int64"
      ]
     },
     "execution_count": 17,
     "metadata": {},
     "output_type": "execute_result"
    }
   ],
   "source": [
    "df['size'].value_counts()"
   ]
  },
  {
   "cell_type": "code",
   "execution_count": 18,
   "id": "floppy-nickel",
   "metadata": {
    "execution": {
     "iopub.execute_input": "2021-04-14T16:16:30.050303Z",
     "iopub.status.busy": "2021-04-14T16:16:30.045281Z",
     "iopub.status.idle": "2021-04-14T16:16:30.054018Z",
     "shell.execute_reply": "2021-04-14T16:16:30.054602Z"
    },
    "papermill": {
     "duration": 0.086327,
     "end_time": "2021-04-14T16:16:30.054811",
     "exception": false,
     "start_time": "2021-04-14T16:16:29.968484",
     "status": "completed"
    },
    "tags": []
   },
   "outputs": [
    {
     "data": {
      "text/plain": [
       "bath       0.453099\n",
       "balcony    0.118645\n",
       "price      1.000000\n",
       "Name: price, dtype: float64"
      ]
     },
     "execution_count": 18,
     "metadata": {},
     "output_type": "execute_result"
    }
   ],
   "source": [
    "df.corr()['price']"
   ]
  },
  {
   "cell_type": "code",
   "execution_count": 19,
   "id": "thousand-yorkshire",
   "metadata": {
    "execution": {
     "iopub.execute_input": "2021-04-14T16:16:30.197170Z",
     "iopub.status.busy": "2021-04-14T16:16:30.196426Z",
     "iopub.status.idle": "2021-04-14T16:16:30.231719Z",
     "shell.execute_reply": "2021-04-14T16:16:30.231000Z"
    },
    "papermill": {
     "duration": 0.108131,
     "end_time": "2021-04-14T16:16:30.231871",
     "exception": false,
     "start_time": "2021-04-14T16:16:30.123740",
     "status": "completed"
    },
    "tags": []
   },
   "outputs": [],
   "source": [
    "df.dropna(subset=['size','location','bath','balcony'],inplace=True)"
   ]
  },
  {
   "cell_type": "code",
   "execution_count": 20,
   "id": "dying-christopher",
   "metadata": {
    "execution": {
     "iopub.execute_input": "2021-04-14T16:16:30.374196Z",
     "iopub.status.busy": "2021-04-14T16:16:30.373518Z",
     "iopub.status.idle": "2021-04-14T16:16:30.388615Z",
     "shell.execute_reply": "2021-04-14T16:16:30.389180Z"
    },
    "papermill": {
     "duration": 0.088174,
     "end_time": "2021-04-14T16:16:30.389370",
     "exception": false,
     "start_time": "2021-04-14T16:16:30.301196",
     "status": "completed"
    },
    "tags": []
   },
   "outputs": [
    {
     "data": {
      "text/plain": [
       "area_type          0\n",
       "availability       0\n",
       "location           0\n",
       "size               0\n",
       "society         5041\n",
       "total_sqft         0\n",
       "bath               0\n",
       "balcony            0\n",
       "price              0\n",
       "dtype: int64"
      ]
     },
     "execution_count": 20,
     "metadata": {},
     "output_type": "execute_result"
    }
   ],
   "source": [
    "df.isnull().sum()"
   ]
  },
  {
   "cell_type": "code",
   "execution_count": 21,
   "id": "digital-jonathan",
   "metadata": {
    "execution": {
     "iopub.execute_input": "2021-04-14T16:16:30.531056Z",
     "iopub.status.busy": "2021-04-14T16:16:30.530233Z",
     "iopub.status.idle": "2021-04-14T16:16:30.547006Z",
     "shell.execute_reply": "2021-04-14T16:16:30.547494Z"
    },
    "papermill": {
     "duration": 0.0892,
     "end_time": "2021-04-14T16:16:30.547709",
     "exception": false,
     "start_time": "2021-04-14T16:16:30.458509",
     "status": "completed"
    },
    "tags": []
   },
   "outputs": [
    {
     "data": {
      "text/html": [
       "<div>\n",
       "<style scoped>\n",
       "    .dataframe tbody tr th:only-of-type {\n",
       "        vertical-align: middle;\n",
       "    }\n",
       "\n",
       "    .dataframe tbody tr th {\n",
       "        vertical-align: top;\n",
       "    }\n",
       "\n",
       "    .dataframe thead th {\n",
       "        text-align: right;\n",
       "    }\n",
       "</style>\n",
       "<table border=\"1\" class=\"dataframe\">\n",
       "  <thead>\n",
       "    <tr style=\"text-align: right;\">\n",
       "      <th></th>\n",
       "      <th>area_type</th>\n",
       "      <th>availability</th>\n",
       "      <th>location</th>\n",
       "      <th>size</th>\n",
       "      <th>society</th>\n",
       "      <th>total_sqft</th>\n",
       "      <th>bath</th>\n",
       "      <th>balcony</th>\n",
       "      <th>price</th>\n",
       "    </tr>\n",
       "  </thead>\n",
       "  <tbody>\n",
       "    <tr>\n",
       "      <th>0</th>\n",
       "      <td>Super built-up  Area</td>\n",
       "      <td>19-Dec</td>\n",
       "      <td>Electronic City Phase II</td>\n",
       "      <td>2 BHK</td>\n",
       "      <td>Coomee</td>\n",
       "      <td>1056</td>\n",
       "      <td>2.0</td>\n",
       "      <td>1.0</td>\n",
       "      <td>39.07</td>\n",
       "    </tr>\n",
       "    <tr>\n",
       "      <th>1</th>\n",
       "      <td>Plot  Area</td>\n",
       "      <td>Ready To Move</td>\n",
       "      <td>Chikka Tirupathi</td>\n",
       "      <td>4 Bedroom</td>\n",
       "      <td>Theanmp</td>\n",
       "      <td>2600</td>\n",
       "      <td>5.0</td>\n",
       "      <td>3.0</td>\n",
       "      <td>120.00</td>\n",
       "    </tr>\n",
       "    <tr>\n",
       "      <th>2</th>\n",
       "      <td>Built-up  Area</td>\n",
       "      <td>Ready To Move</td>\n",
       "      <td>Uttarahalli</td>\n",
       "      <td>3 BHK</td>\n",
       "      <td>NaN</td>\n",
       "      <td>1440</td>\n",
       "      <td>2.0</td>\n",
       "      <td>3.0</td>\n",
       "      <td>62.00</td>\n",
       "    </tr>\n",
       "    <tr>\n",
       "      <th>3</th>\n",
       "      <td>Super built-up  Area</td>\n",
       "      <td>Ready To Move</td>\n",
       "      <td>Lingadheeranahalli</td>\n",
       "      <td>3 BHK</td>\n",
       "      <td>Soiewre</td>\n",
       "      <td>1521</td>\n",
       "      <td>3.0</td>\n",
       "      <td>1.0</td>\n",
       "      <td>95.00</td>\n",
       "    </tr>\n",
       "    <tr>\n",
       "      <th>4</th>\n",
       "      <td>Super built-up  Area</td>\n",
       "      <td>Ready To Move</td>\n",
       "      <td>Kothanur</td>\n",
       "      <td>2 BHK</td>\n",
       "      <td>NaN</td>\n",
       "      <td>1200</td>\n",
       "      <td>2.0</td>\n",
       "      <td>1.0</td>\n",
       "      <td>51.00</td>\n",
       "    </tr>\n",
       "  </tbody>\n",
       "</table>\n",
       "</div>"
      ],
      "text/plain": [
       "              area_type   availability                  location       size  \\\n",
       "0  Super built-up  Area         19-Dec  Electronic City Phase II      2 BHK   \n",
       "1            Plot  Area  Ready To Move          Chikka Tirupathi  4 Bedroom   \n",
       "2        Built-up  Area  Ready To Move               Uttarahalli      3 BHK   \n",
       "3  Super built-up  Area  Ready To Move        Lingadheeranahalli      3 BHK   \n",
       "4  Super built-up  Area  Ready To Move                  Kothanur      2 BHK   \n",
       "\n",
       "   society total_sqft  bath  balcony   price  \n",
       "0  Coomee        1056   2.0      1.0   39.07  \n",
       "1  Theanmp       2600   5.0      3.0  120.00  \n",
       "2      NaN       1440   2.0      3.0   62.00  \n",
       "3  Soiewre       1521   3.0      1.0   95.00  \n",
       "4      NaN       1200   2.0      1.0   51.00  "
      ]
     },
     "execution_count": 21,
     "metadata": {},
     "output_type": "execute_result"
    }
   ],
   "source": [
    "df.head()"
   ]
  },
  {
   "cell_type": "code",
   "execution_count": 22,
   "id": "unusual-anime",
   "metadata": {
    "execution": {
     "iopub.execute_input": "2021-04-14T16:16:30.696980Z",
     "iopub.status.busy": "2021-04-14T16:16:30.690967Z",
     "iopub.status.idle": "2021-04-14T16:16:30.700287Z",
     "shell.execute_reply": "2021-04-14T16:16:30.699587Z"
    },
    "papermill": {
     "duration": 0.083657,
     "end_time": "2021-04-14T16:16:30.700445",
     "exception": false,
     "start_time": "2021-04-14T16:16:30.616788",
     "status": "completed"
    },
    "tags": []
   },
   "outputs": [],
   "source": [
    "df['size']=df['size'].apply(lambda x:x.split()[0])"
   ]
  },
  {
   "cell_type": "code",
   "execution_count": 23,
   "id": "central-guarantee",
   "metadata": {
    "execution": {
     "iopub.execute_input": "2021-04-14T16:16:30.850562Z",
     "iopub.status.busy": "2021-04-14T16:16:30.849628Z",
     "iopub.status.idle": "2021-04-14T16:16:30.855147Z",
     "shell.execute_reply": "2021-04-14T16:16:30.854422Z"
    },
    "papermill": {
     "duration": 0.084912,
     "end_time": "2021-04-14T16:16:30.855418",
     "exception": false,
     "start_time": "2021-04-14T16:16:30.770506",
     "status": "completed"
    },
    "tags": []
   },
   "outputs": [],
   "source": [
    "df['size']=df['size'].astype('float')\n",
    "df['bath']=df['bath'].astype('float')\n",
    "df['balcony']=df['balcony'].astype('float')\n"
   ]
  },
  {
   "cell_type": "code",
   "execution_count": 24,
   "id": "atlantic-membership",
   "metadata": {
    "execution": {
     "iopub.execute_input": "2021-04-14T16:16:31.004702Z",
     "iopub.status.busy": "2021-04-14T16:16:31.003983Z",
     "iopub.status.idle": "2021-04-14T16:16:31.013376Z",
     "shell.execute_reply": "2021-04-14T16:16:31.012613Z"
    },
    "papermill": {
     "duration": 0.087812,
     "end_time": "2021-04-14T16:16:31.013523",
     "exception": false,
     "start_time": "2021-04-14T16:16:30.925711",
     "status": "completed"
    },
    "tags": []
   },
   "outputs": [
    {
     "data": {
      "text/plain": [
       "size       0.403773\n",
       "bath       0.456304\n",
       "balcony    0.118653\n",
       "price      1.000000\n",
       "Name: price, dtype: float64"
      ]
     },
     "execution_count": 24,
     "metadata": {},
     "output_type": "execute_result"
    }
   ],
   "source": [
    "df.corr()['price']\n"
   ]
  },
  {
   "cell_type": "code",
   "execution_count": 25,
   "id": "growing-celtic",
   "metadata": {
    "execution": {
     "iopub.execute_input": "2021-04-14T16:16:31.173562Z",
     "iopub.status.busy": "2021-04-14T16:16:31.172842Z",
     "iopub.status.idle": "2021-04-14T16:16:31.177272Z",
     "shell.execute_reply": "2021-04-14T16:16:31.176702Z"
    },
    "papermill": {
     "duration": 0.093474,
     "end_time": "2021-04-14T16:16:31.177420",
     "exception": false,
     "start_time": "2021-04-14T16:16:31.083946",
     "status": "completed"
    },
    "tags": []
   },
   "outputs": [
    {
     "data": {
      "text/html": [
       "<div>\n",
       "<style scoped>\n",
       "    .dataframe tbody tr th:only-of-type {\n",
       "        vertical-align: middle;\n",
       "    }\n",
       "\n",
       "    .dataframe tbody tr th {\n",
       "        vertical-align: top;\n",
       "    }\n",
       "\n",
       "    .dataframe thead th {\n",
       "        text-align: right;\n",
       "    }\n",
       "</style>\n",
       "<table border=\"1\" class=\"dataframe\">\n",
       "  <thead>\n",
       "    <tr style=\"text-align: right;\">\n",
       "      <th></th>\n",
       "      <th>area_type</th>\n",
       "      <th>availability</th>\n",
       "      <th>location</th>\n",
       "      <th>size</th>\n",
       "      <th>society</th>\n",
       "      <th>total_sqft</th>\n",
       "      <th>bath</th>\n",
       "      <th>balcony</th>\n",
       "      <th>price</th>\n",
       "    </tr>\n",
       "  </thead>\n",
       "  <tbody>\n",
       "    <tr>\n",
       "      <th>0</th>\n",
       "      <td>Super built-up  Area</td>\n",
       "      <td>19-Dec</td>\n",
       "      <td>Electronic City Phase II</td>\n",
       "      <td>2.0</td>\n",
       "      <td>Coomee</td>\n",
       "      <td>1056</td>\n",
       "      <td>2.0</td>\n",
       "      <td>1.0</td>\n",
       "      <td>39.07</td>\n",
       "    </tr>\n",
       "    <tr>\n",
       "      <th>1</th>\n",
       "      <td>Plot  Area</td>\n",
       "      <td>Ready To Move</td>\n",
       "      <td>Chikka Tirupathi</td>\n",
       "      <td>4.0</td>\n",
       "      <td>Theanmp</td>\n",
       "      <td>2600</td>\n",
       "      <td>5.0</td>\n",
       "      <td>3.0</td>\n",
       "      <td>120.00</td>\n",
       "    </tr>\n",
       "    <tr>\n",
       "      <th>2</th>\n",
       "      <td>Built-up  Area</td>\n",
       "      <td>Ready To Move</td>\n",
       "      <td>Uttarahalli</td>\n",
       "      <td>3.0</td>\n",
       "      <td>NaN</td>\n",
       "      <td>1440</td>\n",
       "      <td>2.0</td>\n",
       "      <td>3.0</td>\n",
       "      <td>62.00</td>\n",
       "    </tr>\n",
       "    <tr>\n",
       "      <th>3</th>\n",
       "      <td>Super built-up  Area</td>\n",
       "      <td>Ready To Move</td>\n",
       "      <td>Lingadheeranahalli</td>\n",
       "      <td>3.0</td>\n",
       "      <td>Soiewre</td>\n",
       "      <td>1521</td>\n",
       "      <td>3.0</td>\n",
       "      <td>1.0</td>\n",
       "      <td>95.00</td>\n",
       "    </tr>\n",
       "    <tr>\n",
       "      <th>4</th>\n",
       "      <td>Super built-up  Area</td>\n",
       "      <td>Ready To Move</td>\n",
       "      <td>Kothanur</td>\n",
       "      <td>2.0</td>\n",
       "      <td>NaN</td>\n",
       "      <td>1200</td>\n",
       "      <td>2.0</td>\n",
       "      <td>1.0</td>\n",
       "      <td>51.00</td>\n",
       "    </tr>\n",
       "  </tbody>\n",
       "</table>\n",
       "</div>"
      ],
      "text/plain": [
       "              area_type   availability                  location  size  \\\n",
       "0  Super built-up  Area         19-Dec  Electronic City Phase II   2.0   \n",
       "1            Plot  Area  Ready To Move          Chikka Tirupathi   4.0   \n",
       "2        Built-up  Area  Ready To Move               Uttarahalli   3.0   \n",
       "3  Super built-up  Area  Ready To Move        Lingadheeranahalli   3.0   \n",
       "4  Super built-up  Area  Ready To Move                  Kothanur   2.0   \n",
       "\n",
       "   society total_sqft  bath  balcony   price  \n",
       "0  Coomee        1056   2.0      1.0   39.07  \n",
       "1  Theanmp       2600   5.0      3.0  120.00  \n",
       "2      NaN       1440   2.0      3.0   62.00  \n",
       "3  Soiewre       1521   3.0      1.0   95.00  \n",
       "4      NaN       1200   2.0      1.0   51.00  "
      ]
     },
     "execution_count": 25,
     "metadata": {},
     "output_type": "execute_result"
    }
   ],
   "source": [
    "df.head()"
   ]
  },
  {
   "cell_type": "code",
   "execution_count": 26,
   "id": "built-carter",
   "metadata": {
    "execution": {
     "iopub.execute_input": "2021-04-14T16:16:31.328997Z",
     "iopub.status.busy": "2021-04-14T16:16:31.327744Z",
     "iopub.status.idle": "2021-04-14T16:16:31.334770Z",
     "shell.execute_reply": "2021-04-14T16:16:31.334071Z"
    },
    "papermill": {
     "duration": 0.083667,
     "end_time": "2021-04-14T16:16:31.334914",
     "exception": false,
     "start_time": "2021-04-14T16:16:31.251247",
     "status": "completed"
    },
    "tags": []
   },
   "outputs": [
    {
     "data": {
      "text/plain": [
       "array(['Electronic City Phase II', 'Chikka Tirupathi', 'Uttarahalli', ...,\n",
       "       '12th cross srinivas nagar banshankari 3rd stage',\n",
       "       'Havanur extension', 'Abshot Layout'], dtype=object)"
      ]
     },
     "execution_count": 26,
     "metadata": {},
     "output_type": "execute_result"
    }
   ],
   "source": [
    "df['location'].unique()"
   ]
  },
  {
   "cell_type": "code",
   "execution_count": 27,
   "id": "first-noise",
   "metadata": {
    "execution": {
     "iopub.execute_input": "2021-04-14T16:16:31.483902Z",
     "iopub.status.busy": "2021-04-14T16:16:31.483196Z",
     "iopub.status.idle": "2021-04-14T16:16:31.487208Z",
     "shell.execute_reply": "2021-04-14T16:16:31.486712Z"
    },
    "papermill": {
     "duration": 0.081109,
     "end_time": "2021-04-14T16:16:31.487348",
     "exception": false,
     "start_time": "2021-04-14T16:16:31.406239",
     "status": "completed"
    },
    "tags": []
   },
   "outputs": [
    {
     "data": {
      "text/plain": [
       "array([ 2.,  4.,  3.,  1.,  6.,  8.,  7.,  5., 11.,  9., 27., 43., 14.,\n",
       "       12., 10., 13.])"
      ]
     },
     "execution_count": 27,
     "metadata": {},
     "output_type": "execute_result"
    }
   ],
   "source": [
    "df['size'].unique()"
   ]
  },
  {
   "cell_type": "code",
   "execution_count": 28,
   "id": "republican-contribution",
   "metadata": {
    "execution": {
     "iopub.execute_input": "2021-04-14T16:16:31.634553Z",
     "iopub.status.busy": "2021-04-14T16:16:31.633868Z",
     "iopub.status.idle": "2021-04-14T16:16:31.638073Z",
     "shell.execute_reply": "2021-04-14T16:16:31.638521Z"
    },
    "papermill": {
     "duration": 0.080201,
     "end_time": "2021-04-14T16:16:31.638728",
     "exception": false,
     "start_time": "2021-04-14T16:16:31.558527",
     "status": "completed"
    },
    "tags": []
   },
   "outputs": [
    {
     "data": {
      "text/plain": [
       "array([ 2.,  5.,  3.,  4.,  1.,  8.,  7.,  6.,  9., 27., 11., 12., 10.,\n",
       "       40., 15., 13.])"
      ]
     },
     "execution_count": 28,
     "metadata": {},
     "output_type": "execute_result"
    }
   ],
   "source": [
    "df['bath'].unique()\n"
   ]
  },
  {
   "cell_type": "code",
   "execution_count": 29,
   "id": "labeled-thesis",
   "metadata": {
    "execution": {
     "iopub.execute_input": "2021-04-14T16:16:31.786182Z",
     "iopub.status.busy": "2021-04-14T16:16:31.785440Z",
     "iopub.status.idle": "2021-04-14T16:16:31.791646Z",
     "shell.execute_reply": "2021-04-14T16:16:31.792281Z"
    },
    "papermill": {
     "duration": 0.0817,
     "end_time": "2021-04-14T16:16:31.792472",
     "exception": false,
     "start_time": "2021-04-14T16:16:31.710772",
     "status": "completed"
    },
    "tags": []
   },
   "outputs": [],
   "source": [
    "df.drop(columns=['availability','society'],inplace=True)"
   ]
  },
  {
   "cell_type": "code",
   "execution_count": 30,
   "id": "framed-plaza",
   "metadata": {
    "execution": {
     "iopub.execute_input": "2021-04-14T16:16:31.954784Z",
     "iopub.status.busy": "2021-04-14T16:16:31.954073Z",
     "iopub.status.idle": "2021-04-14T16:16:31.959060Z",
     "shell.execute_reply": "2021-04-14T16:16:31.958494Z"
    },
    "papermill": {
     "duration": 0.093336,
     "end_time": "2021-04-14T16:16:31.959226",
     "exception": false,
     "start_time": "2021-04-14T16:16:31.865890",
     "status": "completed"
    },
    "tags": []
   },
   "outputs": [
    {
     "data": {
      "text/html": [
       "<div>\n",
       "<style scoped>\n",
       "    .dataframe tbody tr th:only-of-type {\n",
       "        vertical-align: middle;\n",
       "    }\n",
       "\n",
       "    .dataframe tbody tr th {\n",
       "        vertical-align: top;\n",
       "    }\n",
       "\n",
       "    .dataframe thead th {\n",
       "        text-align: right;\n",
       "    }\n",
       "</style>\n",
       "<table border=\"1\" class=\"dataframe\">\n",
       "  <thead>\n",
       "    <tr style=\"text-align: right;\">\n",
       "      <th></th>\n",
       "      <th>area_type</th>\n",
       "      <th>location</th>\n",
       "      <th>size</th>\n",
       "      <th>total_sqft</th>\n",
       "      <th>bath</th>\n",
       "      <th>balcony</th>\n",
       "      <th>price</th>\n",
       "    </tr>\n",
       "  </thead>\n",
       "  <tbody>\n",
       "    <tr>\n",
       "      <th>0</th>\n",
       "      <td>Super built-up  Area</td>\n",
       "      <td>Electronic City Phase II</td>\n",
       "      <td>2.0</td>\n",
       "      <td>1056</td>\n",
       "      <td>2.0</td>\n",
       "      <td>1.0</td>\n",
       "      <td>39.07</td>\n",
       "    </tr>\n",
       "    <tr>\n",
       "      <th>1</th>\n",
       "      <td>Plot  Area</td>\n",
       "      <td>Chikka Tirupathi</td>\n",
       "      <td>4.0</td>\n",
       "      <td>2600</td>\n",
       "      <td>5.0</td>\n",
       "      <td>3.0</td>\n",
       "      <td>120.00</td>\n",
       "    </tr>\n",
       "    <tr>\n",
       "      <th>2</th>\n",
       "      <td>Built-up  Area</td>\n",
       "      <td>Uttarahalli</td>\n",
       "      <td>3.0</td>\n",
       "      <td>1440</td>\n",
       "      <td>2.0</td>\n",
       "      <td>3.0</td>\n",
       "      <td>62.00</td>\n",
       "    </tr>\n",
       "    <tr>\n",
       "      <th>3</th>\n",
       "      <td>Super built-up  Area</td>\n",
       "      <td>Lingadheeranahalli</td>\n",
       "      <td>3.0</td>\n",
       "      <td>1521</td>\n",
       "      <td>3.0</td>\n",
       "      <td>1.0</td>\n",
       "      <td>95.00</td>\n",
       "    </tr>\n",
       "    <tr>\n",
       "      <th>4</th>\n",
       "      <td>Super built-up  Area</td>\n",
       "      <td>Kothanur</td>\n",
       "      <td>2.0</td>\n",
       "      <td>1200</td>\n",
       "      <td>2.0</td>\n",
       "      <td>1.0</td>\n",
       "      <td>51.00</td>\n",
       "    </tr>\n",
       "  </tbody>\n",
       "</table>\n",
       "</div>"
      ],
      "text/plain": [
       "              area_type                  location  size total_sqft  bath  \\\n",
       "0  Super built-up  Area  Electronic City Phase II   2.0       1056   2.0   \n",
       "1            Plot  Area          Chikka Tirupathi   4.0       2600   5.0   \n",
       "2        Built-up  Area               Uttarahalli   3.0       1440   2.0   \n",
       "3  Super built-up  Area        Lingadheeranahalli   3.0       1521   3.0   \n",
       "4  Super built-up  Area                  Kothanur   2.0       1200   2.0   \n",
       "\n",
       "   balcony   price  \n",
       "0      1.0   39.07  \n",
       "1      3.0  120.00  \n",
       "2      3.0   62.00  \n",
       "3      1.0   95.00  \n",
       "4      1.0   51.00  "
      ]
     },
     "execution_count": 30,
     "metadata": {},
     "output_type": "execute_result"
    }
   ],
   "source": [
    "df.head()"
   ]
  },
  {
   "cell_type": "code",
   "execution_count": 31,
   "id": "enormous-cover",
   "metadata": {
    "execution": {
     "iopub.execute_input": "2021-04-14T16:16:32.110285Z",
     "iopub.status.busy": "2021-04-14T16:16:32.109269Z",
     "iopub.status.idle": "2021-04-14T16:16:32.119405Z",
     "shell.execute_reply": "2021-04-14T16:16:32.119989Z"
    },
    "papermill": {
     "duration": 0.087145,
     "end_time": "2021-04-14T16:16:32.120173",
     "exception": false,
     "start_time": "2021-04-14T16:16:32.033028",
     "status": "completed"
    },
    "tags": []
   },
   "outputs": [],
   "source": [
    "df['total_sqft']=df['total_sqft'].apply(lambda x:x.splitlines()[0])"
   ]
  },
  {
   "cell_type": "code",
   "execution_count": 32,
   "id": "burning-copying",
   "metadata": {
    "execution": {
     "iopub.execute_input": "2021-04-14T16:16:32.271241Z",
     "iopub.status.busy": "2021-04-14T16:16:32.270227Z",
     "iopub.status.idle": "2021-04-14T16:16:32.274526Z",
     "shell.execute_reply": "2021-04-14T16:16:32.275110Z"
    },
    "papermill": {
     "duration": 0.080632,
     "end_time": "2021-04-14T16:16:32.275284",
     "exception": false,
     "start_time": "2021-04-14T16:16:32.194652",
     "status": "completed"
    },
    "tags": []
   },
   "outputs": [],
   "source": [
    "import re as re"
   ]
  },
  {
   "cell_type": "code",
   "execution_count": 33,
   "id": "foster-finland",
   "metadata": {
    "execution": {
     "iopub.execute_input": "2021-04-14T16:16:32.425173Z",
     "iopub.status.busy": "2021-04-14T16:16:32.424144Z",
     "iopub.status.idle": "2021-04-14T16:16:32.451158Z",
     "shell.execute_reply": "2021-04-14T16:16:32.451729Z"
    },
    "papermill": {
     "duration": 0.104151,
     "end_time": "2021-04-14T16:16:32.451914",
     "exception": false,
     "start_time": "2021-04-14T16:16:32.347763",
     "status": "completed"
    },
    "tags": []
   },
   "outputs": [],
   "source": [
    "def find_number(text):\n",
    "    num = re.findall(r'[0-9]+',text)\n",
    "    return \" \".join(num)\n",
    "df['total_sqft']=df['total_sqft'].apply(lambda x: find_number(x))"
   ]
  },
  {
   "cell_type": "code",
   "execution_count": 34,
   "id": "excess-bahrain",
   "metadata": {
    "execution": {
     "iopub.execute_input": "2021-04-14T16:16:32.602894Z",
     "iopub.status.busy": "2021-04-14T16:16:32.601933Z",
     "iopub.status.idle": "2021-04-14T16:16:32.611710Z",
     "shell.execute_reply": "2021-04-14T16:16:32.612286Z"
    },
    "papermill": {
     "duration": 0.087689,
     "end_time": "2021-04-14T16:16:32.612471",
     "exception": false,
     "start_time": "2021-04-14T16:16:32.524782",
     "status": "completed"
    },
    "tags": []
   },
   "outputs": [],
   "source": [
    "df['total_sqft']=df['total_sqft'].apply(lambda x:x.split()[0])"
   ]
  },
  {
   "cell_type": "code",
   "execution_count": 35,
   "id": "practical-replication",
   "metadata": {
    "execution": {
     "iopub.execute_input": "2021-04-14T16:16:32.762065Z",
     "iopub.status.busy": "2021-04-14T16:16:32.761357Z",
     "iopub.status.idle": "2021-04-14T16:16:32.774177Z",
     "shell.execute_reply": "2021-04-14T16:16:32.773477Z"
    },
    "papermill": {
     "duration": 0.088824,
     "end_time": "2021-04-14T16:16:32.774335",
     "exception": false,
     "start_time": "2021-04-14T16:16:32.685511",
     "status": "completed"
    },
    "tags": []
   },
   "outputs": [
    {
     "data": {
      "text/plain": [
       "1200    754\n",
       "1100    208\n",
       "1500    197\n",
       "2400    178\n",
       "600     170\n",
       "       ... \n",
       "2232      1\n",
       "2342      1\n",
       "977       1\n",
       "951       1\n",
       "469       1\n",
       "Name: total_sqft, Length: 1790, dtype: int64"
      ]
     },
     "execution_count": 35,
     "metadata": {},
     "output_type": "execute_result"
    }
   ],
   "source": [
    "df['total_sqft'].value_counts()"
   ]
  },
  {
   "cell_type": "code",
   "execution_count": 36,
   "id": "paperback-harmony",
   "metadata": {
    "execution": {
     "iopub.execute_input": "2021-04-14T16:16:32.932135Z",
     "iopub.status.busy": "2021-04-14T16:16:32.931027Z",
     "iopub.status.idle": "2021-04-14T16:16:32.934819Z",
     "shell.execute_reply": "2021-04-14T16:16:32.934252Z"
    },
    "papermill": {
     "duration": 0.086499,
     "end_time": "2021-04-14T16:16:32.934981",
     "exception": false,
     "start_time": "2021-04-14T16:16:32.848482",
     "status": "completed"
    },
    "tags": []
   },
   "outputs": [],
   "source": [
    "df['total_sqft']=df['total_sqft'].astype('float')"
   ]
  },
  {
   "cell_type": "code",
   "execution_count": 37,
   "id": "spanish-license",
   "metadata": {
    "execution": {
     "iopub.execute_input": "2021-04-14T16:16:33.089263Z",
     "iopub.status.busy": "2021-04-14T16:16:33.088321Z",
     "iopub.status.idle": "2021-04-14T16:16:33.097514Z",
     "shell.execute_reply": "2021-04-14T16:16:33.096996Z"
    },
    "papermill": {
     "duration": 0.087996,
     "end_time": "2021-04-14T16:16:33.097658",
     "exception": false,
     "start_time": "2021-04-14T16:16:33.009662",
     "status": "completed"
    },
    "tags": []
   },
   "outputs": [
    {
     "data": {
      "text/plain": [
       "size          0.403773\n",
       "total_sqft    0.554139\n",
       "bath          0.456304\n",
       "balcony       0.118653\n",
       "price         1.000000\n",
       "Name: price, dtype: float64"
      ]
     },
     "execution_count": 37,
     "metadata": {},
     "output_type": "execute_result"
    }
   ],
   "source": [
    "df.corr()['price']"
   ]
  },
  {
   "cell_type": "code",
   "execution_count": 38,
   "id": "weekly-examination",
   "metadata": {
    "execution": {
     "iopub.execute_input": "2021-04-14T16:16:33.252057Z",
     "iopub.status.busy": "2021-04-14T16:16:33.251297Z",
     "iopub.status.idle": "2021-04-14T16:16:33.259630Z",
     "shell.execute_reply": "2021-04-14T16:16:33.259109Z"
    },
    "papermill": {
     "duration": 0.087169,
     "end_time": "2021-04-14T16:16:33.259797",
     "exception": false,
     "start_time": "2021-04-14T16:16:33.172628",
     "status": "completed"
    },
    "tags": []
   },
   "outputs": [
    {
     "data": {
      "text/plain": [
       "2.0    4845\n",
       "1.0    4700\n",
       "3.0    1630\n",
       "0.0    1010\n",
       "Name: balcony, dtype: int64"
      ]
     },
     "execution_count": 38,
     "metadata": {},
     "output_type": "execute_result"
    }
   ],
   "source": [
    "df['balcony'].value_counts()"
   ]
  },
  {
   "cell_type": "code",
   "execution_count": 39,
   "id": "reserved-conjunction",
   "metadata": {
    "execution": {
     "iopub.execute_input": "2021-04-14T16:16:33.415293Z",
     "iopub.status.busy": "2021-04-14T16:16:33.414230Z",
     "iopub.status.idle": "2021-04-14T16:16:33.423408Z",
     "shell.execute_reply": "2021-04-14T16:16:33.422687Z"
    },
    "papermill": {
     "duration": 0.089042,
     "end_time": "2021-04-14T16:16:33.423556",
     "exception": false,
     "start_time": "2021-04-14T16:16:33.334514",
     "status": "completed"
    },
    "tags": []
   },
   "outputs": [
    {
     "data": {
      "text/plain": [
       "2.0     6472\n",
       "3.0     3042\n",
       "4.0     1080\n",
       "1.0      760\n",
       "5.0      427\n",
       "6.0      242\n",
       "7.0       82\n",
       "8.0       42\n",
       "9.0       26\n",
       "10.0       6\n",
       "15.0       1\n",
       "40.0       1\n",
       "11.0       1\n",
       "12.0       1\n",
       "13.0       1\n",
       "27.0       1\n",
       "Name: bath, dtype: int64"
      ]
     },
     "execution_count": 39,
     "metadata": {},
     "output_type": "execute_result"
    }
   ],
   "source": [
    "df['bath'].value_counts()"
   ]
  },
  {
   "cell_type": "code",
   "execution_count": 40,
   "id": "active-swaziland",
   "metadata": {
    "execution": {
     "iopub.execute_input": "2021-04-14T16:16:33.580079Z",
     "iopub.status.busy": "2021-04-14T16:16:33.579094Z",
     "iopub.status.idle": "2021-04-14T16:16:33.583621Z",
     "shell.execute_reply": "2021-04-14T16:16:33.582990Z"
    },
    "papermill": {
     "duration": 0.084338,
     "end_time": "2021-04-14T16:16:33.583782",
     "exception": false,
     "start_time": "2021-04-14T16:16:33.499444",
     "status": "completed"
    },
    "tags": []
   },
   "outputs": [
    {
     "data": {
      "text/plain": [
       "(12185, 7)"
      ]
     },
     "execution_count": 40,
     "metadata": {},
     "output_type": "execute_result"
    }
   ],
   "source": [
    "df.shape"
   ]
  },
  {
   "cell_type": "code",
   "execution_count": 41,
   "id": "thirty-indication",
   "metadata": {
    "execution": {
     "iopub.execute_input": "2021-04-14T16:16:33.739624Z",
     "iopub.status.busy": "2021-04-14T16:16:33.738659Z",
     "iopub.status.idle": "2021-04-14T16:16:33.749512Z",
     "shell.execute_reply": "2021-04-14T16:16:33.750035Z"
    },
    "papermill": {
     "duration": 0.089594,
     "end_time": "2021-04-14T16:16:33.750220",
     "exception": false,
     "start_time": "2021-04-14T16:16:33.660626",
     "status": "completed"
    },
    "tags": []
   },
   "outputs": [
    {
     "data": {
      "text/plain": [
       "area_type     0\n",
       "location      0\n",
       "size          0\n",
       "total_sqft    0\n",
       "bath          0\n",
       "balcony       0\n",
       "price         0\n",
       "dtype: int64"
      ]
     },
     "execution_count": 41,
     "metadata": {},
     "output_type": "execute_result"
    }
   ],
   "source": [
    "df.isnull().sum()"
   ]
  },
  {
   "cell_type": "code",
   "execution_count": 42,
   "id": "medium-column",
   "metadata": {
    "execution": {
     "iopub.execute_input": "2021-04-14T16:16:33.906517Z",
     "iopub.status.busy": "2021-04-14T16:16:33.905475Z",
     "iopub.status.idle": "2021-04-14T16:16:33.919231Z",
     "shell.execute_reply": "2021-04-14T16:16:33.919747Z"
    },
    "papermill": {
     "duration": 0.093954,
     "end_time": "2021-04-14T16:16:33.919938",
     "exception": false,
     "start_time": "2021-04-14T16:16:33.825984",
     "status": "completed"
    },
    "tags": []
   },
   "outputs": [],
   "source": [
    "df['location']=df['location'].apply(lambda x: x.strip())\n",
    "location_count=df['location'].value_counts()"
   ]
  },
  {
   "cell_type": "code",
   "execution_count": 43,
   "id": "creative-complaint",
   "metadata": {
    "execution": {
     "iopub.execute_input": "2021-04-14T16:16:34.081170Z",
     "iopub.status.busy": "2021-04-14T16:16:34.080168Z",
     "iopub.status.idle": "2021-04-14T16:16:34.085045Z",
     "shell.execute_reply": "2021-04-14T16:16:34.084398Z"
    },
    "papermill": {
     "duration": 0.089363,
     "end_time": "2021-04-14T16:16:34.085192",
     "exception": false,
     "start_time": "2021-04-14T16:16:33.995829",
     "status": "completed"
    },
    "tags": []
   },
   "outputs": [
    {
     "data": {
      "text/plain": [
       "Gunjur Palya            10\n",
       "Naganathapura           10\n",
       "Nagappa Reddy Layout    10\n",
       "Dairy Circle            10\n",
       "Pattandur Agrahara      10\n",
       "                        ..\n",
       "P&T Colony               1\n",
       "3rd Phase Iti Layout     1\n",
       "HOSUR RMAIN ROAD         1\n",
       "Okalipura                1\n",
       "Vikram Nagar             1\n",
       "Name: location, Length: 1027, dtype: int64"
      ]
     },
     "execution_count": 43,
     "metadata": {},
     "output_type": "execute_result"
    }
   ],
   "source": [
    "location_count_less_10= location_count[location_count<=10]\n",
    "location_count_less_10"
   ]
  },
  {
   "cell_type": "code",
   "execution_count": 44,
   "id": "broadband-gambling",
   "metadata": {
    "execution": {
     "iopub.execute_input": "2021-04-14T16:16:34.244822Z",
     "iopub.status.busy": "2021-04-14T16:16:34.243773Z",
     "iopub.status.idle": "2021-04-14T16:16:34.268935Z",
     "shell.execute_reply": "2021-04-14T16:16:34.269393Z"
    },
    "papermill": {
     "duration": 0.107244,
     "end_time": "2021-04-14T16:16:34.269573",
     "exception": false,
     "start_time": "2021-04-14T16:16:34.162329",
     "status": "completed"
    },
    "tags": []
   },
   "outputs": [],
   "source": [
    "df['location']=df['location'].apply(lambda x: 'other'if x in location_count_less_10 else x)"
   ]
  },
  {
   "cell_type": "code",
   "execution_count": 45,
   "id": "chinese-reference",
   "metadata": {
    "execution": {
     "iopub.execute_input": "2021-04-14T16:16:34.433720Z",
     "iopub.status.busy": "2021-04-14T16:16:34.432735Z",
     "iopub.status.idle": "2021-04-14T16:16:34.436700Z",
     "shell.execute_reply": "2021-04-14T16:16:34.437162Z"
    },
    "papermill": {
     "duration": 0.091198,
     "end_time": "2021-04-14T16:16:34.437335",
     "exception": false,
     "start_time": "2021-04-14T16:16:34.346137",
     "status": "completed"
    },
    "tags": []
   },
   "outputs": [
    {
     "data": {
      "text/plain": [
       "other                   2806\n",
       "Whitefield               498\n",
       "Sarjapur  Road           352\n",
       "Electronic City          287\n",
       "Kanakpura Road           238\n",
       "                        ... \n",
       "LB Shastri Nagar          11\n",
       "Vishveshwarya Layout      11\n",
       "Nagasandra                11\n",
       "Tindlu                    11\n",
       "Thyagaraja Nagar          11\n",
       "Name: location, Length: 228, dtype: int64"
      ]
     },
     "execution_count": 45,
     "metadata": {},
     "output_type": "execute_result"
    }
   ],
   "source": [
    "df['location'].value_counts()"
   ]
  },
  {
   "cell_type": "code",
   "execution_count": 46,
   "id": "moderate-heading",
   "metadata": {
    "execution": {
     "iopub.execute_input": "2021-04-14T16:16:34.595062Z",
     "iopub.status.busy": "2021-04-14T16:16:34.594054Z",
     "iopub.status.idle": "2021-04-14T16:16:34.610950Z",
     "shell.execute_reply": "2021-04-14T16:16:34.610299Z"
    },
    "papermill": {
     "duration": 0.097032,
     "end_time": "2021-04-14T16:16:34.611102",
     "exception": false,
     "start_time": "2021-04-14T16:16:34.514070",
     "status": "completed"
    },
    "tags": []
   },
   "outputs": [
    {
     "data": {
      "text/html": [
       "<div>\n",
       "<style scoped>\n",
       "    .dataframe tbody tr th:only-of-type {\n",
       "        vertical-align: middle;\n",
       "    }\n",
       "\n",
       "    .dataframe tbody tr th {\n",
       "        vertical-align: top;\n",
       "    }\n",
       "\n",
       "    .dataframe thead th {\n",
       "        text-align: right;\n",
       "    }\n",
       "</style>\n",
       "<table border=\"1\" class=\"dataframe\">\n",
       "  <thead>\n",
       "    <tr style=\"text-align: right;\">\n",
       "      <th></th>\n",
       "      <th>area_type</th>\n",
       "      <th>location</th>\n",
       "      <th>size</th>\n",
       "      <th>total_sqft</th>\n",
       "      <th>bath</th>\n",
       "      <th>balcony</th>\n",
       "      <th>price</th>\n",
       "    </tr>\n",
       "  </thead>\n",
       "  <tbody>\n",
       "    <tr>\n",
       "      <th>0</th>\n",
       "      <td>Super built-up  Area</td>\n",
       "      <td>Electronic City Phase II</td>\n",
       "      <td>2.0</td>\n",
       "      <td>1056.0</td>\n",
       "      <td>2.0</td>\n",
       "      <td>1.0</td>\n",
       "      <td>39.07</td>\n",
       "    </tr>\n",
       "    <tr>\n",
       "      <th>1</th>\n",
       "      <td>Plot  Area</td>\n",
       "      <td>Chikka Tirupathi</td>\n",
       "      <td>4.0</td>\n",
       "      <td>2600.0</td>\n",
       "      <td>5.0</td>\n",
       "      <td>3.0</td>\n",
       "      <td>120.00</td>\n",
       "    </tr>\n",
       "    <tr>\n",
       "      <th>2</th>\n",
       "      <td>Built-up  Area</td>\n",
       "      <td>Uttarahalli</td>\n",
       "      <td>3.0</td>\n",
       "      <td>1440.0</td>\n",
       "      <td>2.0</td>\n",
       "      <td>3.0</td>\n",
       "      <td>62.00</td>\n",
       "    </tr>\n",
       "    <tr>\n",
       "      <th>3</th>\n",
       "      <td>Super built-up  Area</td>\n",
       "      <td>Lingadheeranahalli</td>\n",
       "      <td>3.0</td>\n",
       "      <td>1521.0</td>\n",
       "      <td>3.0</td>\n",
       "      <td>1.0</td>\n",
       "      <td>95.00</td>\n",
       "    </tr>\n",
       "    <tr>\n",
       "      <th>4</th>\n",
       "      <td>Super built-up  Area</td>\n",
       "      <td>Kothanur</td>\n",
       "      <td>2.0</td>\n",
       "      <td>1200.0</td>\n",
       "      <td>2.0</td>\n",
       "      <td>1.0</td>\n",
       "      <td>51.00</td>\n",
       "    </tr>\n",
       "  </tbody>\n",
       "</table>\n",
       "</div>"
      ],
      "text/plain": [
       "              area_type                  location  size  total_sqft  bath  \\\n",
       "0  Super built-up  Area  Electronic City Phase II   2.0      1056.0   2.0   \n",
       "1            Plot  Area          Chikka Tirupathi   4.0      2600.0   5.0   \n",
       "2        Built-up  Area               Uttarahalli   3.0      1440.0   2.0   \n",
       "3  Super built-up  Area        Lingadheeranahalli   3.0      1521.0   3.0   \n",
       "4  Super built-up  Area                  Kothanur   2.0      1200.0   2.0   \n",
       "\n",
       "   balcony   price  \n",
       "0      1.0   39.07  \n",
       "1      3.0  120.00  \n",
       "2      3.0   62.00  \n",
       "3      1.0   95.00  \n",
       "4      1.0   51.00  "
      ]
     },
     "execution_count": 46,
     "metadata": {},
     "output_type": "execute_result"
    }
   ],
   "source": [
    "df.head()"
   ]
  },
  {
   "cell_type": "code",
   "execution_count": 47,
   "id": "executed-amateur",
   "metadata": {
    "execution": {
     "iopub.execute_input": "2021-04-14T16:16:34.776265Z",
     "iopub.status.busy": "2021-04-14T16:16:34.775223Z",
     "iopub.status.idle": "2021-04-14T16:16:34.804175Z",
     "shell.execute_reply": "2021-04-14T16:16:34.804759Z"
    },
    "papermill": {
     "duration": 0.113991,
     "end_time": "2021-04-14T16:16:34.804932",
     "exception": false,
     "start_time": "2021-04-14T16:16:34.690941",
     "status": "completed"
    },
    "tags": []
   },
   "outputs": [
    {
     "data": {
      "text/html": [
       "<div>\n",
       "<style scoped>\n",
       "    .dataframe tbody tr th:only-of-type {\n",
       "        vertical-align: middle;\n",
       "    }\n",
       "\n",
       "    .dataframe tbody tr th {\n",
       "        vertical-align: top;\n",
       "    }\n",
       "\n",
       "    .dataframe thead th {\n",
       "        text-align: right;\n",
       "    }\n",
       "</style>\n",
       "<table border=\"1\" class=\"dataframe\">\n",
       "  <thead>\n",
       "    <tr style=\"text-align: right;\">\n",
       "      <th></th>\n",
       "      <th>size</th>\n",
       "      <th>total_sqft</th>\n",
       "      <th>bath</th>\n",
       "      <th>balcony</th>\n",
       "      <th>price</th>\n",
       "    </tr>\n",
       "  </thead>\n",
       "  <tbody>\n",
       "    <tr>\n",
       "      <th>count</th>\n",
       "      <td>12185.000000</td>\n",
       "      <td>12185.000000</td>\n",
       "      <td>12185.000000</td>\n",
       "      <td>12185.000000</td>\n",
       "      <td>12185.000000</td>\n",
       "    </tr>\n",
       "    <tr>\n",
       "      <th>mean</th>\n",
       "      <td>2.749282</td>\n",
       "      <td>1515.130817</td>\n",
       "      <td>2.631022</td>\n",
       "      <td>1.582273</td>\n",
       "      <td>107.631297</td>\n",
       "    </tr>\n",
       "    <tr>\n",
       "      <th>std</th>\n",
       "      <td>1.220753</td>\n",
       "      <td>1182.638686</td>\n",
       "      <td>1.240363</td>\n",
       "      <td>0.822561</td>\n",
       "      <td>134.022372</td>\n",
       "    </tr>\n",
       "    <tr>\n",
       "      <th>min</th>\n",
       "      <td>1.000000</td>\n",
       "      <td>1.000000</td>\n",
       "      <td>1.000000</td>\n",
       "      <td>0.000000</td>\n",
       "      <td>8.000000</td>\n",
       "    </tr>\n",
       "    <tr>\n",
       "      <th>25%</th>\n",
       "      <td>2.000000</td>\n",
       "      <td>1095.000000</td>\n",
       "      <td>2.000000</td>\n",
       "      <td>1.000000</td>\n",
       "      <td>50.000000</td>\n",
       "    </tr>\n",
       "    <tr>\n",
       "      <th>50%</th>\n",
       "      <td>3.000000</td>\n",
       "      <td>1262.000000</td>\n",
       "      <td>2.000000</td>\n",
       "      <td>2.000000</td>\n",
       "      <td>70.000000</td>\n",
       "    </tr>\n",
       "    <tr>\n",
       "      <th>75%</th>\n",
       "      <td>3.000000</td>\n",
       "      <td>1650.000000</td>\n",
       "      <td>3.000000</td>\n",
       "      <td>2.000000</td>\n",
       "      <td>115.000000</td>\n",
       "    </tr>\n",
       "    <tr>\n",
       "      <th>max</th>\n",
       "      <td>43.000000</td>\n",
       "      <td>52272.000000</td>\n",
       "      <td>40.000000</td>\n",
       "      <td>3.000000</td>\n",
       "      <td>2912.000000</td>\n",
       "    </tr>\n",
       "  </tbody>\n",
       "</table>\n",
       "</div>"
      ],
      "text/plain": [
       "               size    total_sqft          bath       balcony         price\n",
       "count  12185.000000  12185.000000  12185.000000  12185.000000  12185.000000\n",
       "mean       2.749282   1515.130817      2.631022      1.582273    107.631297\n",
       "std        1.220753   1182.638686      1.240363      0.822561    134.022372\n",
       "min        1.000000      1.000000      1.000000      0.000000      8.000000\n",
       "25%        2.000000   1095.000000      2.000000      1.000000     50.000000\n",
       "50%        3.000000   1262.000000      2.000000      2.000000     70.000000\n",
       "75%        3.000000   1650.000000      3.000000      2.000000    115.000000\n",
       "max       43.000000  52272.000000     40.000000      3.000000   2912.000000"
      ]
     },
     "execution_count": 47,
     "metadata": {},
     "output_type": "execute_result"
    }
   ],
   "source": [
    "df.describe()"
   ]
  },
  {
   "cell_type": "code",
   "execution_count": 48,
   "id": "disturbed-fairy",
   "metadata": {
    "execution": {
     "iopub.execute_input": "2021-04-14T16:16:34.966705Z",
     "iopub.status.busy": "2021-04-14T16:16:34.966000Z",
     "iopub.status.idle": "2021-04-14T16:16:34.977516Z",
     "shell.execute_reply": "2021-04-14T16:16:34.976867Z"
    },
    "papermill": {
     "duration": 0.093483,
     "end_time": "2021-04-14T16:16:34.977656",
     "exception": false,
     "start_time": "2021-04-14T16:16:34.884173",
     "status": "completed"
    },
    "tags": []
   },
   "outputs": [
    {
     "data": {
      "text/plain": [
       "count    12185.000000\n",
       "mean       569.017628\n",
       "std        388.019741\n",
       "min          0.500000\n",
       "25%        471.500000\n",
       "50%        550.000000\n",
       "75%        622.500000\n",
       "max      26136.000000\n",
       "dtype: float64"
      ]
     },
     "execution_count": 48,
     "metadata": {},
     "output_type": "execute_result"
    }
   ],
   "source": [
    "(df['total_sqft']/df['size']).describe()"
   ]
  },
  {
   "cell_type": "code",
   "execution_count": 49,
   "id": "printable-designer",
   "metadata": {
    "execution": {
     "iopub.execute_input": "2021-04-14T16:16:35.141437Z",
     "iopub.status.busy": "2021-04-14T16:16:35.140757Z",
     "iopub.status.idle": "2021-04-14T16:16:35.174903Z",
     "shell.execute_reply": "2021-04-14T16:16:35.174168Z"
    },
    "papermill": {
     "duration": 0.117989,
     "end_time": "2021-04-14T16:16:35.175048",
     "exception": false,
     "start_time": "2021-04-14T16:16:35.057059",
     "status": "completed"
    },
    "tags": []
   },
   "outputs": [
    {
     "data": {
      "text/html": [
       "<div>\n",
       "<style scoped>\n",
       "    .dataframe tbody tr th:only-of-type {\n",
       "        vertical-align: middle;\n",
       "    }\n",
       "\n",
       "    .dataframe tbody tr th {\n",
       "        vertical-align: top;\n",
       "    }\n",
       "\n",
       "    .dataframe thead th {\n",
       "        text-align: right;\n",
       "    }\n",
       "</style>\n",
       "<table border=\"1\" class=\"dataframe\">\n",
       "  <thead>\n",
       "    <tr style=\"text-align: right;\">\n",
       "      <th></th>\n",
       "      <th>size</th>\n",
       "      <th>total_sqft</th>\n",
       "      <th>bath</th>\n",
       "      <th>balcony</th>\n",
       "      <th>price</th>\n",
       "    </tr>\n",
       "  </thead>\n",
       "  <tbody>\n",
       "    <tr>\n",
       "      <th>count</th>\n",
       "      <td>11502.000000</td>\n",
       "      <td>11502.000000</td>\n",
       "      <td>11502.000000</td>\n",
       "      <td>11502.000000</td>\n",
       "      <td>11502.000000</td>\n",
       "    </tr>\n",
       "    <tr>\n",
       "      <th>mean</th>\n",
       "      <td>2.616154</td>\n",
       "      <td>1551.120501</td>\n",
       "      <td>2.522953</td>\n",
       "      <td>1.586159</td>\n",
       "      <td>106.700546</td>\n",
       "    </tr>\n",
       "    <tr>\n",
       "      <th>std</th>\n",
       "      <td>0.933784</td>\n",
       "      <td>1202.054927</td>\n",
       "      <td>1.017260</td>\n",
       "      <td>0.814085</td>\n",
       "      <td>136.642477</td>\n",
       "    </tr>\n",
       "    <tr>\n",
       "      <th>min</th>\n",
       "      <td>1.000000</td>\n",
       "      <td>300.000000</td>\n",
       "      <td>1.000000</td>\n",
       "      <td>0.000000</td>\n",
       "      <td>9.000000</td>\n",
       "    </tr>\n",
       "    <tr>\n",
       "      <th>25%</th>\n",
       "      <td>2.000000</td>\n",
       "      <td>1105.000000</td>\n",
       "      <td>2.000000</td>\n",
       "      <td>1.000000</td>\n",
       "      <td>49.000000</td>\n",
       "    </tr>\n",
       "    <tr>\n",
       "      <th>50%</th>\n",
       "      <td>2.000000</td>\n",
       "      <td>1291.000000</td>\n",
       "      <td>2.000000</td>\n",
       "      <td>2.000000</td>\n",
       "      <td>69.240000</td>\n",
       "    </tr>\n",
       "    <tr>\n",
       "      <th>75%</th>\n",
       "      <td>3.000000</td>\n",
       "      <td>1680.000000</td>\n",
       "      <td>3.000000</td>\n",
       "      <td>2.000000</td>\n",
       "      <td>112.000000</td>\n",
       "    </tr>\n",
       "    <tr>\n",
       "      <th>max</th>\n",
       "      <td>13.000000</td>\n",
       "      <td>52272.000000</td>\n",
       "      <td>13.000000</td>\n",
       "      <td>3.000000</td>\n",
       "      <td>2912.000000</td>\n",
       "    </tr>\n",
       "  </tbody>\n",
       "</table>\n",
       "</div>"
      ],
      "text/plain": [
       "               size    total_sqft          bath       balcony         price\n",
       "count  11502.000000  11502.000000  11502.000000  11502.000000  11502.000000\n",
       "mean       2.616154   1551.120501      2.522953      1.586159    106.700546\n",
       "std        0.933784   1202.054927      1.017260      0.814085    136.642477\n",
       "min        1.000000    300.000000      1.000000      0.000000      9.000000\n",
       "25%        2.000000   1105.000000      2.000000      1.000000     49.000000\n",
       "50%        2.000000   1291.000000      2.000000      2.000000     69.240000\n",
       "75%        3.000000   1680.000000      3.000000      2.000000    112.000000\n",
       "max       13.000000  52272.000000     13.000000      3.000000   2912.000000"
      ]
     },
     "execution_count": 49,
     "metadata": {},
     "output_type": "execute_result"
    }
   ],
   "source": [
    "df=df[((df['total_sqft']/df['size'])>=300)]\n",
    "df.describe()"
   ]
  },
  {
   "cell_type": "code",
   "execution_count": 50,
   "id": "located-sleeping",
   "metadata": {
    "execution": {
     "iopub.execute_input": "2021-04-14T16:16:35.347019Z",
     "iopub.status.busy": "2021-04-14T16:16:35.346330Z",
     "iopub.status.idle": "2021-04-14T16:16:35.377316Z",
     "shell.execute_reply": "2021-04-14T16:16:35.376578Z"
    },
    "papermill": {
     "duration": 0.120599,
     "end_time": "2021-04-14T16:16:35.377474",
     "exception": false,
     "start_time": "2021-04-14T16:16:35.256875",
     "status": "completed"
    },
    "tags": []
   },
   "outputs": [
    {
     "data": {
      "text/html": [
       "<div>\n",
       "<style scoped>\n",
       "    .dataframe tbody tr th:only-of-type {\n",
       "        vertical-align: middle;\n",
       "    }\n",
       "\n",
       "    .dataframe tbody tr th {\n",
       "        vertical-align: top;\n",
       "    }\n",
       "\n",
       "    .dataframe thead th {\n",
       "        text-align: right;\n",
       "    }\n",
       "</style>\n",
       "<table border=\"1\" class=\"dataframe\">\n",
       "  <thead>\n",
       "    <tr style=\"text-align: right;\">\n",
       "      <th></th>\n",
       "      <th>size</th>\n",
       "      <th>total_sqft</th>\n",
       "      <th>bath</th>\n",
       "      <th>balcony</th>\n",
       "      <th>price</th>\n",
       "    </tr>\n",
       "  </thead>\n",
       "  <tbody>\n",
       "    <tr>\n",
       "      <th>count</th>\n",
       "      <td>11499.000000</td>\n",
       "      <td>11499.000000</td>\n",
       "      <td>11499.000000</td>\n",
       "      <td>11499.000000</td>\n",
       "      <td>11499.000000</td>\n",
       "    </tr>\n",
       "    <tr>\n",
       "      <th>mean</th>\n",
       "      <td>2.615445</td>\n",
       "      <td>1540.196191</td>\n",
       "      <td>2.522393</td>\n",
       "      <td>1.586051</td>\n",
       "      <td>106.661856</td>\n",
       "    </tr>\n",
       "    <tr>\n",
       "      <th>std</th>\n",
       "      <td>0.931909</td>\n",
       "      <td>987.898266</td>\n",
       "      <td>1.016004</td>\n",
       "      <td>0.814057</td>\n",
       "      <td>136.620952</td>\n",
       "    </tr>\n",
       "    <tr>\n",
       "      <th>min</th>\n",
       "      <td>1.000000</td>\n",
       "      <td>300.000000</td>\n",
       "      <td>1.000000</td>\n",
       "      <td>0.000000</td>\n",
       "      <td>9.000000</td>\n",
       "    </tr>\n",
       "    <tr>\n",
       "      <th>25%</th>\n",
       "      <td>2.000000</td>\n",
       "      <td>1105.000000</td>\n",
       "      <td>2.000000</td>\n",
       "      <td>1.000000</td>\n",
       "      <td>49.000000</td>\n",
       "    </tr>\n",
       "    <tr>\n",
       "      <th>50%</th>\n",
       "      <td>2.000000</td>\n",
       "      <td>1290.000000</td>\n",
       "      <td>2.000000</td>\n",
       "      <td>2.000000</td>\n",
       "      <td>69.180000</td>\n",
       "    </tr>\n",
       "    <tr>\n",
       "      <th>75%</th>\n",
       "      <td>3.000000</td>\n",
       "      <td>1678.500000</td>\n",
       "      <td>3.000000</td>\n",
       "      <td>2.000000</td>\n",
       "      <td>111.500000</td>\n",
       "    </tr>\n",
       "    <tr>\n",
       "      <th>max</th>\n",
       "      <td>13.000000</td>\n",
       "      <td>35000.000000</td>\n",
       "      <td>13.000000</td>\n",
       "      <td>3.000000</td>\n",
       "      <td>2912.000000</td>\n",
       "    </tr>\n",
       "  </tbody>\n",
       "</table>\n",
       "</div>"
      ],
      "text/plain": [
       "               size    total_sqft          bath       balcony         price\n",
       "count  11499.000000  11499.000000  11499.000000  11499.000000  11499.000000\n",
       "mean       2.615445   1540.196191      2.522393      1.586051    106.661856\n",
       "std        0.931909    987.898266      1.016004      0.814057    136.620952\n",
       "min        1.000000    300.000000      1.000000      0.000000      9.000000\n",
       "25%        2.000000   1105.000000      2.000000      1.000000     49.000000\n",
       "50%        2.000000   1290.000000      2.000000      2.000000     69.180000\n",
       "75%        3.000000   1678.500000      3.000000      2.000000    111.500000\n",
       "max       13.000000  35000.000000     13.000000      3.000000   2912.000000"
      ]
     },
     "execution_count": 50,
     "metadata": {},
     "output_type": "execute_result"
    }
   ],
   "source": [
    "df=df[(df['total_sqft']<36000)]\n",
    "df.describe()"
   ]
  },
  {
   "cell_type": "code",
   "execution_count": 51,
   "id": "present-thumb",
   "metadata": {
    "execution": {
     "iopub.execute_input": "2021-04-14T16:16:35.548739Z",
     "iopub.status.busy": "2021-04-14T16:16:35.547714Z",
     "iopub.status.idle": "2021-04-14T16:16:35.552632Z",
     "shell.execute_reply": "2021-04-14T16:16:35.551929Z"
    },
    "papermill": {
     "duration": 0.093296,
     "end_time": "2021-04-14T16:16:35.552794",
     "exception": false,
     "start_time": "2021-04-14T16:16:35.459498",
     "status": "completed"
    },
    "tags": []
   },
   "outputs": [
    {
     "data": {
      "text/plain": [
       "2.0     6386\n",
       "3.0     2928\n",
       "4.0      911\n",
       "1.0      726\n",
       "5.0      330\n",
       "6.0      148\n",
       "7.0       37\n",
       "8.0       21\n",
       "9.0        9\n",
       "10.0       2\n",
       "13.0       1\n",
       "Name: bath, dtype: int64"
      ]
     },
     "execution_count": 51,
     "metadata": {},
     "output_type": "execute_result"
    }
   ],
   "source": [
    "df['bath'].value_counts()"
   ]
  },
  {
   "cell_type": "code",
   "execution_count": 52,
   "id": "about-basic",
   "metadata": {
    "execution": {
     "iopub.execute_input": "2021-04-14T16:16:35.721433Z",
     "iopub.status.busy": "2021-04-14T16:16:35.720565Z",
     "iopub.status.idle": "2021-04-14T16:16:35.725501Z",
     "shell.execute_reply": "2021-04-14T16:16:35.724863Z"
    },
    "papermill": {
     "duration": 0.091722,
     "end_time": "2021-04-14T16:16:35.725641",
     "exception": false,
     "start_time": "2021-04-14T16:16:35.633919",
     "status": "completed"
    },
    "tags": []
   },
   "outputs": [
    {
     "data": {
      "text/plain": [
       "(11499, 7)"
      ]
     },
     "execution_count": 52,
     "metadata": {},
     "output_type": "execute_result"
    }
   ],
   "source": [
    "df.shape"
   ]
  },
  {
   "cell_type": "code",
   "execution_count": 53,
   "id": "wireless-fighter",
   "metadata": {
    "execution": {
     "iopub.execute_input": "2021-04-14T16:16:35.907880Z",
     "iopub.status.busy": "2021-04-14T16:16:35.906894Z",
     "iopub.status.idle": "2021-04-14T16:16:35.911945Z",
     "shell.execute_reply": "2021-04-14T16:16:35.911285Z"
    },
    "papermill": {
     "duration": 0.103375,
     "end_time": "2021-04-14T16:16:35.912094",
     "exception": false,
     "start_time": "2021-04-14T16:16:35.808719",
     "status": "completed"
    },
    "tags": []
   },
   "outputs": [
    {
     "data": {
      "text/html": [
       "<div>\n",
       "<style scoped>\n",
       "    .dataframe tbody tr th:only-of-type {\n",
       "        vertical-align: middle;\n",
       "    }\n",
       "\n",
       "    .dataframe tbody tr th {\n",
       "        vertical-align: top;\n",
       "    }\n",
       "\n",
       "    .dataframe thead th {\n",
       "        text-align: right;\n",
       "    }\n",
       "</style>\n",
       "<table border=\"1\" class=\"dataframe\">\n",
       "  <thead>\n",
       "    <tr style=\"text-align: right;\">\n",
       "      <th></th>\n",
       "      <th>area_type</th>\n",
       "      <th>location</th>\n",
       "      <th>size</th>\n",
       "      <th>total_sqft</th>\n",
       "      <th>bath</th>\n",
       "      <th>balcony</th>\n",
       "      <th>price</th>\n",
       "    </tr>\n",
       "  </thead>\n",
       "  <tbody>\n",
       "    <tr>\n",
       "      <th>0</th>\n",
       "      <td>Super built-up  Area</td>\n",
       "      <td>Electronic City Phase II</td>\n",
       "      <td>2.0</td>\n",
       "      <td>1056.0</td>\n",
       "      <td>2.0</td>\n",
       "      <td>1.0</td>\n",
       "      <td>39.07</td>\n",
       "    </tr>\n",
       "    <tr>\n",
       "      <th>1</th>\n",
       "      <td>Plot  Area</td>\n",
       "      <td>Chikka Tirupathi</td>\n",
       "      <td>4.0</td>\n",
       "      <td>2600.0</td>\n",
       "      <td>5.0</td>\n",
       "      <td>3.0</td>\n",
       "      <td>120.00</td>\n",
       "    </tr>\n",
       "    <tr>\n",
       "      <th>2</th>\n",
       "      <td>Built-up  Area</td>\n",
       "      <td>Uttarahalli</td>\n",
       "      <td>3.0</td>\n",
       "      <td>1440.0</td>\n",
       "      <td>2.0</td>\n",
       "      <td>3.0</td>\n",
       "      <td>62.00</td>\n",
       "    </tr>\n",
       "    <tr>\n",
       "      <th>3</th>\n",
       "      <td>Super built-up  Area</td>\n",
       "      <td>Lingadheeranahalli</td>\n",
       "      <td>3.0</td>\n",
       "      <td>1521.0</td>\n",
       "      <td>3.0</td>\n",
       "      <td>1.0</td>\n",
       "      <td>95.00</td>\n",
       "    </tr>\n",
       "    <tr>\n",
       "      <th>4</th>\n",
       "      <td>Super built-up  Area</td>\n",
       "      <td>Kothanur</td>\n",
       "      <td>2.0</td>\n",
       "      <td>1200.0</td>\n",
       "      <td>2.0</td>\n",
       "      <td>1.0</td>\n",
       "      <td>51.00</td>\n",
       "    </tr>\n",
       "  </tbody>\n",
       "</table>\n",
       "</div>"
      ],
      "text/plain": [
       "              area_type                  location  size  total_sqft  bath  \\\n",
       "0  Super built-up  Area  Electronic City Phase II   2.0      1056.0   2.0   \n",
       "1            Plot  Area          Chikka Tirupathi   4.0      2600.0   5.0   \n",
       "2        Built-up  Area               Uttarahalli   3.0      1440.0   2.0   \n",
       "3  Super built-up  Area        Lingadheeranahalli   3.0      1521.0   3.0   \n",
       "4  Super built-up  Area                  Kothanur   2.0      1200.0   2.0   \n",
       "\n",
       "   balcony   price  \n",
       "0      1.0   39.07  \n",
       "1      3.0  120.00  \n",
       "2      3.0   62.00  \n",
       "3      1.0   95.00  \n",
       "4      1.0   51.00  "
      ]
     },
     "execution_count": 53,
     "metadata": {},
     "output_type": "execute_result"
    }
   ],
   "source": [
    "df.head()"
   ]
  },
  {
   "cell_type": "code",
   "execution_count": 54,
   "id": "hired-questionnaire",
   "metadata": {
    "execution": {
     "iopub.execute_input": "2021-04-14T16:16:36.084045Z",
     "iopub.status.busy": "2021-04-14T16:16:36.083153Z",
     "iopub.status.idle": "2021-04-14T16:16:36.193587Z",
     "shell.execute_reply": "2021-04-14T16:16:36.194166Z"
    },
    "papermill": {
     "duration": 0.199243,
     "end_time": "2021-04-14T16:16:36.194359",
     "exception": false,
     "start_time": "2021-04-14T16:16:35.995116",
     "status": "completed"
    },
    "tags": []
   },
   "outputs": [],
   "source": [
    "df.to_csv(\"final_df.csv\")"
   ]
  },
  {
   "cell_type": "code",
   "execution_count": 55,
   "id": "indirect-beginning",
   "metadata": {
    "execution": {
     "iopub.execute_input": "2021-04-14T16:16:36.362591Z",
     "iopub.status.busy": "2021-04-14T16:16:36.361555Z",
     "iopub.status.idle": "2021-04-14T16:16:37.603412Z",
     "shell.execute_reply": "2021-04-14T16:16:37.603999Z"
    },
    "papermill": {
     "duration": 1.327366,
     "end_time": "2021-04-14T16:16:37.604205",
     "exception": false,
     "start_time": "2021-04-14T16:16:36.276839",
     "status": "completed"
    },
    "tags": []
   },
   "outputs": [],
   "source": [
    "from sklearn.preprocessing import LabelEncoder"
   ]
  },
  {
   "cell_type": "code",
   "execution_count": 56,
   "id": "stuck-ordinance",
   "metadata": {
    "execution": {
     "iopub.execute_input": "2021-04-14T16:16:37.774295Z",
     "iopub.status.busy": "2021-04-14T16:16:37.773490Z",
     "iopub.status.idle": "2021-04-14T16:16:37.777286Z",
     "shell.execute_reply": "2021-04-14T16:16:37.777905Z"
    },
    "papermill": {
     "duration": 0.091695,
     "end_time": "2021-04-14T16:16:37.778090",
     "exception": false,
     "start_time": "2021-04-14T16:16:37.686395",
     "status": "completed"
    },
    "tags": []
   },
   "outputs": [],
   "source": [
    "area_encoder= LabelEncoder()"
   ]
  },
  {
   "cell_type": "code",
   "execution_count": 57,
   "id": "numerical-underground",
   "metadata": {
    "execution": {
     "iopub.execute_input": "2021-04-14T16:16:37.947422Z",
     "iopub.status.busy": "2021-04-14T16:16:37.946790Z",
     "iopub.status.idle": "2021-04-14T16:16:37.952391Z",
     "shell.execute_reply": "2021-04-14T16:16:37.951851Z"
    },
    "papermill": {
     "duration": 0.091303,
     "end_time": "2021-04-14T16:16:37.952543",
     "exception": false,
     "start_time": "2021-04-14T16:16:37.861240",
     "status": "completed"
    },
    "tags": []
   },
   "outputs": [],
   "source": [
    "location_encoder=LabelEncoder()"
   ]
  },
  {
   "cell_type": "code",
   "execution_count": 58,
   "id": "balanced-humidity",
   "metadata": {
    "execution": {
     "iopub.execute_input": "2021-04-14T16:16:38.147325Z",
     "iopub.status.busy": "2021-04-14T16:16:38.146603Z",
     "iopub.status.idle": "2021-04-14T16:16:38.150831Z",
     "shell.execute_reply": "2021-04-14T16:16:38.149994Z"
    },
    "papermill": {
     "duration": 0.108094,
     "end_time": "2021-04-14T16:16:38.151007",
     "exception": false,
     "start_time": "2021-04-14T16:16:38.042913",
     "status": "completed"
    },
    "tags": []
   },
   "outputs": [],
   "source": [
    "\n",
    "df['area_type']= area_encoder.fit_transform(df['area_type'])\n",
    "df['location']= location_encoder.fit_transform(df['location'])"
   ]
  },
  {
   "cell_type": "code",
   "execution_count": 59,
   "id": "impaired-johnson",
   "metadata": {
    "execution": {
     "iopub.execute_input": "2021-04-14T16:16:38.342384Z",
     "iopub.status.busy": "2021-04-14T16:16:38.336435Z",
     "iopub.status.idle": "2021-04-14T16:16:38.347721Z",
     "shell.execute_reply": "2021-04-14T16:16:38.347053Z"
    },
    "papermill": {
     "duration": 0.109605,
     "end_time": "2021-04-14T16:16:38.347873",
     "exception": false,
     "start_time": "2021-04-14T16:16:38.238268",
     "status": "completed"
    },
    "tags": []
   },
   "outputs": [
    {
     "data": {
      "text/html": [
       "<div>\n",
       "<style scoped>\n",
       "    .dataframe tbody tr th:only-of-type {\n",
       "        vertical-align: middle;\n",
       "    }\n",
       "\n",
       "    .dataframe tbody tr th {\n",
       "        vertical-align: top;\n",
       "    }\n",
       "\n",
       "    .dataframe thead th {\n",
       "        text-align: right;\n",
       "    }\n",
       "</style>\n",
       "<table border=\"1\" class=\"dataframe\">\n",
       "  <thead>\n",
       "    <tr style=\"text-align: right;\">\n",
       "      <th></th>\n",
       "      <th>area_type</th>\n",
       "      <th>location</th>\n",
       "      <th>size</th>\n",
       "      <th>total_sqft</th>\n",
       "      <th>bath</th>\n",
       "      <th>balcony</th>\n",
       "      <th>price</th>\n",
       "    </tr>\n",
       "  </thead>\n",
       "  <tbody>\n",
       "    <tr>\n",
       "      <th>0</th>\n",
       "      <td>3</td>\n",
       "      <td>74</td>\n",
       "      <td>2.0</td>\n",
       "      <td>1056.0</td>\n",
       "      <td>2.0</td>\n",
       "      <td>1.0</td>\n",
       "      <td>39.07</td>\n",
       "    </tr>\n",
       "    <tr>\n",
       "      <th>1</th>\n",
       "      <td>2</td>\n",
       "      <td>56</td>\n",
       "      <td>4.0</td>\n",
       "      <td>2600.0</td>\n",
       "      <td>5.0</td>\n",
       "      <td>3.0</td>\n",
       "      <td>120.00</td>\n",
       "    </tr>\n",
       "    <tr>\n",
       "      <th>2</th>\n",
       "      <td>0</td>\n",
       "      <td>213</td>\n",
       "      <td>3.0</td>\n",
       "      <td>1440.0</td>\n",
       "      <td>2.0</td>\n",
       "      <td>3.0</td>\n",
       "      <td>62.00</td>\n",
       "    </tr>\n",
       "    <tr>\n",
       "      <th>3</th>\n",
       "      <td>3</td>\n",
       "      <td>151</td>\n",
       "      <td>3.0</td>\n",
       "      <td>1521.0</td>\n",
       "      <td>3.0</td>\n",
       "      <td>1.0</td>\n",
       "      <td>95.00</td>\n",
       "    </tr>\n",
       "    <tr>\n",
       "      <th>4</th>\n",
       "      <td>3</td>\n",
       "      <td>143</td>\n",
       "      <td>2.0</td>\n",
       "      <td>1200.0</td>\n",
       "      <td>2.0</td>\n",
       "      <td>1.0</td>\n",
       "      <td>51.00</td>\n",
       "    </tr>\n",
       "  </tbody>\n",
       "</table>\n",
       "</div>"
      ],
      "text/plain": [
       "   area_type  location  size  total_sqft  bath  balcony   price\n",
       "0          3        74   2.0      1056.0   2.0      1.0   39.07\n",
       "1          2        56   4.0      2600.0   5.0      3.0  120.00\n",
       "2          0       213   3.0      1440.0   2.0      3.0   62.00\n",
       "3          3       151   3.0      1521.0   3.0      1.0   95.00\n",
       "4          3       143   2.0      1200.0   2.0      1.0   51.00"
      ]
     },
     "execution_count": 59,
     "metadata": {},
     "output_type": "execute_result"
    }
   ],
   "source": [
    "df.head()"
   ]
  },
  {
   "cell_type": "code",
   "execution_count": 60,
   "id": "entertaining-january",
   "metadata": {
    "execution": {
     "iopub.execute_input": "2021-04-14T16:16:38.523374Z",
     "iopub.status.busy": "2021-04-14T16:16:38.522189Z",
     "iopub.status.idle": "2021-04-14T16:16:38.527026Z",
     "shell.execute_reply": "2021-04-14T16:16:38.526357Z"
    },
    "papermill": {
     "duration": 0.094086,
     "end_time": "2021-04-14T16:16:38.527247",
     "exception": false,
     "start_time": "2021-04-14T16:16:38.433161",
     "status": "completed"
    },
    "tags": []
   },
   "outputs": [
    {
     "data": {
      "text/plain": [
       "(11499, 7)"
      ]
     },
     "execution_count": 60,
     "metadata": {},
     "output_type": "execute_result"
    }
   ],
   "source": [
    "df.shape"
   ]
  },
  {
   "cell_type": "code",
   "execution_count": 61,
   "id": "stupid-baltimore",
   "metadata": {
    "execution": {
     "iopub.execute_input": "2021-04-14T16:16:38.710216Z",
     "iopub.status.busy": "2021-04-14T16:16:38.709504Z",
     "iopub.status.idle": "2021-04-14T16:16:38.720233Z",
     "shell.execute_reply": "2021-04-14T16:16:38.719642Z"
    },
    "papermill": {
     "duration": 0.10479,
     "end_time": "2021-04-14T16:16:38.720372",
     "exception": false,
     "start_time": "2021-04-14T16:16:38.615582",
     "status": "completed"
    },
    "tags": []
   },
   "outputs": [
    {
     "data": {
      "text/plain": [
       "area_type    -0.057803\n",
       "location      0.079074\n",
       "size          0.483763\n",
       "total_sqft    0.676333\n",
       "bath          0.523619\n",
       "balcony       0.118215\n",
       "price         1.000000\n",
       "Name: price, dtype: float64"
      ]
     },
     "execution_count": 61,
     "metadata": {},
     "output_type": "execute_result"
    }
   ],
   "source": [
    "df.corr()['price']"
   ]
  },
  {
   "cell_type": "code",
   "execution_count": 62,
   "id": "middle-corrections",
   "metadata": {
    "execution": {
     "iopub.execute_input": "2021-04-14T16:16:38.914219Z",
     "iopub.status.busy": "2021-04-14T16:16:38.913159Z",
     "iopub.status.idle": "2021-04-14T16:16:38.917020Z",
     "shell.execute_reply": "2021-04-14T16:16:38.916347Z"
    },
    "papermill": {
     "duration": 0.112203,
     "end_time": "2021-04-14T16:16:38.917239",
     "exception": false,
     "start_time": "2021-04-14T16:16:38.805036",
     "status": "completed"
    },
    "tags": []
   },
   "outputs": [],
   "source": [
    "from sklearn.preprocessing import OneHotEncoder"
   ]
  },
  {
   "cell_type": "code",
   "execution_count": 63,
   "id": "prerequisite-receipt",
   "metadata": {
    "execution": {
     "iopub.execute_input": "2021-04-14T16:16:39.123060Z",
     "iopub.status.busy": "2021-04-14T16:16:39.121966Z",
     "iopub.status.idle": "2021-04-14T16:16:39.124748Z",
     "shell.execute_reply": "2021-04-14T16:16:39.125234Z"
    },
    "papermill": {
     "duration": 0.109396,
     "end_time": "2021-04-14T16:16:39.125420",
     "exception": false,
     "start_time": "2021-04-14T16:16:39.016024",
     "status": "completed"
    },
    "tags": []
   },
   "outputs": [],
   "source": [
    "ohe= OneHotEncoder(drop='first')"
   ]
  },
  {
   "cell_type": "code",
   "execution_count": 64,
   "id": "complete-astronomy",
   "metadata": {
    "execution": {
     "iopub.execute_input": "2021-04-14T16:16:39.336980Z",
     "iopub.status.busy": "2021-04-14T16:16:39.335890Z",
     "iopub.status.idle": "2021-04-14T16:16:39.344079Z",
     "shell.execute_reply": "2021-04-14T16:16:39.343365Z"
    },
    "papermill": {
     "duration": 0.108282,
     "end_time": "2021-04-14T16:16:39.344268",
     "exception": false,
     "start_time": "2021-04-14T16:16:39.235986",
     "status": "completed"
    },
    "tags": []
   },
   "outputs": [],
   "source": [
    "X=df.drop(columns=['area_type','location','price']).iloc[:,:].values"
   ]
  },
  {
   "cell_type": "code",
   "execution_count": 65,
   "id": "norman-renaissance",
   "metadata": {
    "execution": {
     "iopub.execute_input": "2021-04-14T16:16:39.536531Z",
     "iopub.status.busy": "2021-04-14T16:16:39.535413Z",
     "iopub.status.idle": "2021-04-14T16:16:39.588103Z",
     "shell.execute_reply": "2021-04-14T16:16:39.587481Z"
    },
    "papermill": {
     "duration": 0.149702,
     "end_time": "2021-04-14T16:16:39.588255",
     "exception": false,
     "start_time": "2021-04-14T16:16:39.438553",
     "status": "completed"
    },
    "tags": []
   },
   "outputs": [],
   "source": [
    "X_trans=ohe.fit_transform(df[['area_type','location']]).toarray()"
   ]
  },
  {
   "cell_type": "code",
   "execution_count": 66,
   "id": "lovely-consortium",
   "metadata": {
    "execution": {
     "iopub.execute_input": "2021-04-14T16:16:39.797328Z",
     "iopub.status.busy": "2021-04-14T16:16:39.796347Z",
     "iopub.status.idle": "2021-04-14T16:16:39.835608Z",
     "shell.execute_reply": "2021-04-14T16:16:39.834943Z"
    },
    "papermill": {
     "duration": 0.157782,
     "end_time": "2021-04-14T16:16:39.835852",
     "exception": false,
     "start_time": "2021-04-14T16:16:39.678070",
     "status": "completed"
    },
    "tags": []
   },
   "outputs": [],
   "source": [
    "X=np.hstack((X,X_trans))"
   ]
  },
  {
   "cell_type": "code",
   "execution_count": 67,
   "id": "express-manitoba",
   "metadata": {
    "execution": {
     "iopub.execute_input": "2021-04-14T16:16:40.026524Z",
     "iopub.status.busy": "2021-04-14T16:16:40.025260Z",
     "iopub.status.idle": "2021-04-14T16:16:40.030315Z",
     "shell.execute_reply": "2021-04-14T16:16:40.030884Z"
    },
    "papermill": {
     "duration": 0.100879,
     "end_time": "2021-04-14T16:16:40.031069",
     "exception": false,
     "start_time": "2021-04-14T16:16:39.930190",
     "status": "completed"
    },
    "tags": []
   },
   "outputs": [
    {
     "data": {
      "text/plain": [
       "array([[2.000e+00, 1.056e+03, 2.000e+00, ..., 0.000e+00, 0.000e+00,\n",
       "        0.000e+00],\n",
       "       [4.000e+00, 2.600e+03, 5.000e+00, ..., 0.000e+00, 0.000e+00,\n",
       "        0.000e+00],\n",
       "       [3.000e+00, 1.440e+03, 2.000e+00, ..., 0.000e+00, 0.000e+00,\n",
       "        0.000e+00],\n",
       "       ...,\n",
       "       [5.000e+00, 3.453e+03, 4.000e+00, ..., 0.000e+00, 0.000e+00,\n",
       "        0.000e+00],\n",
       "       [2.000e+00, 1.141e+03, 2.000e+00, ..., 0.000e+00, 0.000e+00,\n",
       "        0.000e+00],\n",
       "       [4.000e+00, 4.689e+03, 4.000e+00, ..., 0.000e+00, 0.000e+00,\n",
       "        0.000e+00]])"
      ]
     },
     "execution_count": 67,
     "metadata": {},
     "output_type": "execute_result"
    }
   ],
   "source": [
    "X"
   ]
  },
  {
   "cell_type": "code",
   "execution_count": 68,
   "id": "alternate-ability",
   "metadata": {
    "execution": {
     "iopub.execute_input": "2021-04-14T16:16:40.216160Z",
     "iopub.status.busy": "2021-04-14T16:16:40.215393Z",
     "iopub.status.idle": "2021-04-14T16:16:40.219989Z",
     "shell.execute_reply": "2021-04-14T16:16:40.220475Z"
    },
    "papermill": {
     "duration": 0.09768,
     "end_time": "2021-04-14T16:16:40.220654",
     "exception": false,
     "start_time": "2021-04-14T16:16:40.122974",
     "status": "completed"
    },
    "tags": []
   },
   "outputs": [
    {
     "data": {
      "text/plain": [
       "(11499, 234)"
      ]
     },
     "execution_count": 68,
     "metadata": {},
     "output_type": "execute_result"
    }
   ],
   "source": [
    "X.shape"
   ]
  },
  {
   "cell_type": "code",
   "execution_count": 69,
   "id": "naval-election",
   "metadata": {
    "execution": {
     "iopub.execute_input": "2021-04-14T16:16:40.396071Z",
     "iopub.status.busy": "2021-04-14T16:16:40.395379Z",
     "iopub.status.idle": "2021-04-14T16:16:40.400663Z",
     "shell.execute_reply": "2021-04-14T16:16:40.401177Z"
    },
    "papermill": {
     "duration": 0.09464,
     "end_time": "2021-04-14T16:16:40.401362",
     "exception": false,
     "start_time": "2021-04-14T16:16:40.306722",
     "status": "completed"
    },
    "tags": []
   },
   "outputs": [],
   "source": [
    "y=df['price'].values"
   ]
  },
  {
   "cell_type": "code",
   "execution_count": 70,
   "id": "surgical-designation",
   "metadata": {
    "execution": {
     "iopub.execute_input": "2021-04-14T16:16:40.578744Z",
     "iopub.status.busy": "2021-04-14T16:16:40.577880Z",
     "iopub.status.idle": "2021-04-14T16:16:40.582841Z",
     "shell.execute_reply": "2021-04-14T16:16:40.582046Z"
    },
    "papermill": {
     "duration": 0.095697,
     "end_time": "2021-04-14T16:16:40.583034",
     "exception": false,
     "start_time": "2021-04-14T16:16:40.487337",
     "status": "completed"
    },
    "tags": []
   },
   "outputs": [
    {
     "name": "stdout",
     "output_type": "stream",
     "text": [
      "(11499, 234)\n",
      "(11499,)\n"
     ]
    }
   ],
   "source": [
    "print(X.shape)\n",
    "print(y.shape)"
   ]
  },
  {
   "cell_type": "code",
   "execution_count": 71,
   "id": "focused-speaking",
   "metadata": {
    "execution": {
     "iopub.execute_input": "2021-04-14T16:16:40.761508Z",
     "iopub.status.busy": "2021-04-14T16:16:40.760797Z",
     "iopub.status.idle": "2021-04-14T16:16:40.868528Z",
     "shell.execute_reply": "2021-04-14T16:16:40.868000Z"
    },
    "papermill": {
     "duration": 0.197285,
     "end_time": "2021-04-14T16:16:40.868696",
     "exception": false,
     "start_time": "2021-04-14T16:16:40.671411",
     "status": "completed"
    },
    "tags": []
   },
   "outputs": [],
   "source": [
    "from sklearn.model_selection import train_test_split\n",
    "X_train,X_test,y_train,y_test= train_test_split(X,y,test_size=0.2)"
   ]
  },
  {
   "cell_type": "code",
   "execution_count": 72,
   "id": "surface-cream",
   "metadata": {
    "execution": {
     "iopub.execute_input": "2021-04-14T16:16:41.049335Z",
     "iopub.status.busy": "2021-04-14T16:16:41.048369Z",
     "iopub.status.idle": "2021-04-14T16:16:41.052652Z",
     "shell.execute_reply": "2021-04-14T16:16:41.051935Z"
    },
    "papermill": {
     "duration": 0.097791,
     "end_time": "2021-04-14T16:16:41.052844",
     "exception": false,
     "start_time": "2021-04-14T16:16:40.955053",
     "status": "completed"
    },
    "tags": []
   },
   "outputs": [
    {
     "name": "stdout",
     "output_type": "stream",
     "text": [
      "(9199, 234)\n",
      "(2300, 234)\n",
      "(9199,)\n",
      "(2300,)\n"
     ]
    }
   ],
   "source": [
    "print(X_train.shape)\n",
    "print(X_test.shape)\n",
    "print(y_train.shape)\n",
    "print(y_test.shape)"
   ]
  },
  {
   "cell_type": "code",
   "execution_count": 73,
   "id": "initial-superintendent",
   "metadata": {
    "execution": {
     "iopub.execute_input": "2021-04-14T16:16:41.233328Z",
     "iopub.status.busy": "2021-04-14T16:16:41.232623Z",
     "iopub.status.idle": "2021-04-14T16:16:41.350121Z",
     "shell.execute_reply": "2021-04-14T16:16:41.349268Z"
    },
    "papermill": {
     "duration": 0.209907,
     "end_time": "2021-04-14T16:16:41.350303",
     "exception": false,
     "start_time": "2021-04-14T16:16:41.140396",
     "status": "completed"
    },
    "tags": []
   },
   "outputs": [],
   "source": [
    "from sklearn.linear_model import LinearRegression"
   ]
  },
  {
   "cell_type": "code",
   "execution_count": 74,
   "id": "mental-manner",
   "metadata": {
    "execution": {
     "iopub.execute_input": "2021-04-14T16:16:41.532730Z",
     "iopub.status.busy": "2021-04-14T16:16:41.532019Z",
     "iopub.status.idle": "2021-04-14T16:16:41.535711Z",
     "shell.execute_reply": "2021-04-14T16:16:41.535092Z"
    },
    "papermill": {
     "duration": 0.097518,
     "end_time": "2021-04-14T16:16:41.535862",
     "exception": false,
     "start_time": "2021-04-14T16:16:41.438344",
     "status": "completed"
    },
    "tags": []
   },
   "outputs": [],
   "source": [
    "lr= LinearRegression()"
   ]
  },
  {
   "cell_type": "code",
   "execution_count": 75,
   "id": "answering-disposal",
   "metadata": {
    "execution": {
     "iopub.execute_input": "2021-04-14T16:16:41.716625Z",
     "iopub.status.busy": "2021-04-14T16:16:41.715941Z",
     "iopub.status.idle": "2021-04-14T16:16:41.910944Z",
     "shell.execute_reply": "2021-04-14T16:16:41.911906Z"
    },
    "papermill": {
     "duration": 0.287542,
     "end_time": "2021-04-14T16:16:41.912184",
     "exception": false,
     "start_time": "2021-04-14T16:16:41.624642",
     "status": "completed"
    },
    "tags": []
   },
   "outputs": [
    {
     "data": {
      "text/plain": [
       "LinearRegression()"
      ]
     },
     "execution_count": 75,
     "metadata": {},
     "output_type": "execute_result"
    }
   ],
   "source": [
    "lr.fit(X_train,y_train)"
   ]
  },
  {
   "cell_type": "code",
   "execution_count": 76,
   "id": "nutritional-prince",
   "metadata": {
    "execution": {
     "iopub.execute_input": "2021-04-14T16:16:42.138739Z",
     "iopub.status.busy": "2021-04-14T16:16:42.137380Z",
     "iopub.status.idle": "2021-04-14T16:16:42.140623Z",
     "shell.execute_reply": "2021-04-14T16:16:42.139740Z"
    },
    "papermill": {
     "duration": 0.100522,
     "end_time": "2021-04-14T16:16:42.140861",
     "exception": false,
     "start_time": "2021-04-14T16:16:42.040339",
     "status": "completed"
    },
    "tags": []
   },
   "outputs": [],
   "source": [
    "y_pred=lr.predict(X_test)"
   ]
  },
  {
   "cell_type": "code",
   "execution_count": 77,
   "id": "innovative-employee",
   "metadata": {
    "execution": {
     "iopub.execute_input": "2021-04-14T16:16:42.372456Z",
     "iopub.status.busy": "2021-04-14T16:16:42.371574Z",
     "iopub.status.idle": "2021-04-14T16:16:42.374883Z",
     "shell.execute_reply": "2021-04-14T16:16:42.374344Z"
    },
    "papermill": {
     "duration": 0.096104,
     "end_time": "2021-04-14T16:16:42.375030",
     "exception": false,
     "start_time": "2021-04-14T16:16:42.278926",
     "status": "completed"
    },
    "tags": []
   },
   "outputs": [],
   "source": [
    "from sklearn.metrics import r2_score"
   ]
  },
  {
   "cell_type": "code",
   "execution_count": 78,
   "id": "cooperative-somalia",
   "metadata": {
    "execution": {
     "iopub.execute_input": "2021-04-14T16:16:42.558386Z",
     "iopub.status.busy": "2021-04-14T16:16:42.557322Z",
     "iopub.status.idle": "2021-04-14T16:16:42.561970Z",
     "shell.execute_reply": "2021-04-14T16:16:42.562464Z"
    },
    "papermill": {
     "duration": 0.098336,
     "end_time": "2021-04-14T16:16:42.562631",
     "exception": false,
     "start_time": "2021-04-14T16:16:42.464295",
     "status": "completed"
    },
    "tags": []
   },
   "outputs": [
    {
     "data": {
      "text/plain": [
       "0.5679052277665503"
      ]
     },
     "execution_count": 78,
     "metadata": {},
     "output_type": "execute_result"
    }
   ],
   "source": [
    "r2_score(y_test,y_pred)"
   ]
  },
  {
   "cell_type": "code",
   "execution_count": 79,
   "id": "champion-sigma",
   "metadata": {
    "execution": {
     "iopub.execute_input": "2021-04-14T16:16:42.745069Z",
     "iopub.status.busy": "2021-04-14T16:16:42.744342Z",
     "iopub.status.idle": "2021-04-14T16:16:42.881776Z",
     "shell.execute_reply": "2021-04-14T16:16:42.882354Z"
    },
    "papermill": {
     "duration": 0.231305,
     "end_time": "2021-04-14T16:16:42.882536",
     "exception": false,
     "start_time": "2021-04-14T16:16:42.651231",
     "status": "completed"
    },
    "tags": []
   },
   "outputs": [],
   "source": [
    "from sklearn.tree import DecisionTreeRegressor"
   ]
  },
  {
   "cell_type": "code",
   "execution_count": 80,
   "id": "linear-responsibility",
   "metadata": {
    "execution": {
     "iopub.execute_input": "2021-04-14T16:16:43.072038Z",
     "iopub.status.busy": "2021-04-14T16:16:43.071237Z",
     "iopub.status.idle": "2021-04-14T16:16:43.076422Z",
     "shell.execute_reply": "2021-04-14T16:16:43.075874Z"
    },
    "papermill": {
     "duration": 0.101532,
     "end_time": "2021-04-14T16:16:43.076576",
     "exception": false,
     "start_time": "2021-04-14T16:16:42.975044",
     "status": "completed"
    },
    "tags": []
   },
   "outputs": [],
   "source": [
    "dct=DecisionTreeRegressor()"
   ]
  },
  {
   "cell_type": "code",
   "execution_count": 81,
   "id": "smooth-hardwood",
   "metadata": {
    "execution": {
     "iopub.execute_input": "2021-04-14T16:16:43.262910Z",
     "iopub.status.busy": "2021-04-14T16:16:43.262162Z",
     "iopub.status.idle": "2021-04-14T16:16:43.515186Z",
     "shell.execute_reply": "2021-04-14T16:16:43.514602Z"
    },
    "papermill": {
     "duration": 0.347946,
     "end_time": "2021-04-14T16:16:43.515344",
     "exception": false,
     "start_time": "2021-04-14T16:16:43.167398",
     "status": "completed"
    },
    "tags": []
   },
   "outputs": [
    {
     "data": {
      "text/plain": [
       "DecisionTreeRegressor()"
      ]
     },
     "execution_count": 81,
     "metadata": {},
     "output_type": "execute_result"
    }
   ],
   "source": [
    "dct.fit(X_train,y_train)"
   ]
  },
  {
   "cell_type": "code",
   "execution_count": 82,
   "id": "collaborative-hurricane",
   "metadata": {
    "execution": {
     "iopub.execute_input": "2021-04-14T16:16:43.700162Z",
     "iopub.status.busy": "2021-04-14T16:16:43.699470Z",
     "iopub.status.idle": "2021-04-14T16:16:43.705360Z",
     "shell.execute_reply": "2021-04-14T16:16:43.704801Z"
    },
    "papermill": {
     "duration": 0.10089,
     "end_time": "2021-04-14T16:16:43.705513",
     "exception": false,
     "start_time": "2021-04-14T16:16:43.604623",
     "status": "completed"
    },
    "tags": []
   },
   "outputs": [],
   "source": [
    "y_pred1=dct.predict(X_test)"
   ]
  },
  {
   "cell_type": "code",
   "execution_count": 83,
   "id": "arabic-alabama",
   "metadata": {
    "execution": {
     "iopub.execute_input": "2021-04-14T16:16:43.893075Z",
     "iopub.status.busy": "2021-04-14T16:16:43.891914Z",
     "iopub.status.idle": "2021-04-14T16:16:43.897101Z",
     "shell.execute_reply": "2021-04-14T16:16:43.896547Z"
    },
    "papermill": {
     "duration": 0.101296,
     "end_time": "2021-04-14T16:16:43.897246",
     "exception": false,
     "start_time": "2021-04-14T16:16:43.795950",
     "status": "completed"
    },
    "tags": []
   },
   "outputs": [
    {
     "data": {
      "text/plain": [
       "0.24843744745378515"
      ]
     },
     "execution_count": 83,
     "metadata": {},
     "output_type": "execute_result"
    }
   ],
   "source": [
    "r2_score(y_test,y_pred1)"
   ]
  },
  {
   "cell_type": "code",
   "execution_count": 84,
   "id": "infinite-bunch",
   "metadata": {
    "execution": {
     "iopub.execute_input": "2021-04-14T16:16:44.080611Z",
     "iopub.status.busy": "2021-04-14T16:16:44.079970Z",
     "iopub.status.idle": "2021-04-14T16:16:44.120394Z",
     "shell.execute_reply": "2021-04-14T16:16:44.119610Z"
    },
    "papermill": {
     "duration": 0.133581,
     "end_time": "2021-04-14T16:16:44.120548",
     "exception": false,
     "start_time": "2021-04-14T16:16:43.986967",
     "status": "completed"
    },
    "tags": []
   },
   "outputs": [],
   "source": [
    "from sklearn.ensemble import RandomForestRegressor"
   ]
  },
  {
   "cell_type": "code",
   "execution_count": 85,
   "id": "early-wonder",
   "metadata": {
    "execution": {
     "iopub.execute_input": "2021-04-14T16:16:44.308603Z",
     "iopub.status.busy": "2021-04-14T16:16:44.307654Z",
     "iopub.status.idle": "2021-04-14T16:16:44.312020Z",
     "shell.execute_reply": "2021-04-14T16:16:44.311310Z"
    },
    "papermill": {
     "duration": 0.099786,
     "end_time": "2021-04-14T16:16:44.312174",
     "exception": false,
     "start_time": "2021-04-14T16:16:44.212388",
     "status": "completed"
    },
    "tags": []
   },
   "outputs": [],
   "source": [
    "rfr=RandomForestRegressor(n_estimators=200)"
   ]
  },
  {
   "cell_type": "code",
   "execution_count": 86,
   "id": "adjacent-lounge",
   "metadata": {
    "execution": {
     "iopub.execute_input": "2021-04-14T16:16:44.501703Z",
     "iopub.status.busy": "2021-04-14T16:16:44.500387Z",
     "iopub.status.idle": "2021-04-14T16:17:10.558889Z",
     "shell.execute_reply": "2021-04-14T16:17:10.558124Z"
    },
    "papermill": {
     "duration": 26.154816,
     "end_time": "2021-04-14T16:17:10.559038",
     "exception": false,
     "start_time": "2021-04-14T16:16:44.404222",
     "status": "completed"
    },
    "tags": []
   },
   "outputs": [
    {
     "data": {
      "text/plain": [
       "RandomForestRegressor(n_estimators=200)"
      ]
     },
     "execution_count": 86,
     "metadata": {},
     "output_type": "execute_result"
    }
   ],
   "source": [
    "rfr.fit(X_train,y_train)"
   ]
  },
  {
   "cell_type": "code",
   "execution_count": 87,
   "id": "composed-situation",
   "metadata": {
    "execution": {
     "iopub.execute_input": "2021-04-14T16:17:10.746388Z",
     "iopub.status.busy": "2021-04-14T16:17:10.745275Z",
     "iopub.status.idle": "2021-04-14T16:17:10.930569Z",
     "shell.execute_reply": "2021-04-14T16:17:10.929978Z"
    },
    "papermill": {
     "duration": 0.281326,
     "end_time": "2021-04-14T16:17:10.930735",
     "exception": false,
     "start_time": "2021-04-14T16:17:10.649409",
     "status": "completed"
    },
    "tags": []
   },
   "outputs": [],
   "source": [
    "y_pred2=rfr.predict(X_test)"
   ]
  },
  {
   "cell_type": "code",
   "execution_count": 88,
   "id": "least-ceiling",
   "metadata": {
    "execution": {
     "iopub.execute_input": "2021-04-14T16:17:11.120738Z",
     "iopub.status.busy": "2021-04-14T16:17:11.119959Z",
     "iopub.status.idle": "2021-04-14T16:17:11.124026Z",
     "shell.execute_reply": "2021-04-14T16:17:11.123427Z"
    },
    "papermill": {
     "duration": 0.101273,
     "end_time": "2021-04-14T16:17:11.124161",
     "exception": false,
     "start_time": "2021-04-14T16:17:11.022888",
     "status": "completed"
    },
    "tags": []
   },
   "outputs": [
    {
     "data": {
      "text/plain": [
       "0.4664654337095464"
      ]
     },
     "execution_count": 88,
     "metadata": {},
     "output_type": "execute_result"
    }
   ],
   "source": [
    "r2_score(y_test,y_pred2)"
   ]
  },
  {
   "cell_type": "code",
   "execution_count": 89,
   "id": "micro-composite",
   "metadata": {
    "execution": {
     "iopub.execute_input": "2021-04-14T16:17:11.313075Z",
     "iopub.status.busy": "2021-04-14T16:17:11.312038Z",
     "iopub.status.idle": "2021-04-14T16:17:11.316044Z",
     "shell.execute_reply": "2021-04-14T16:17:11.315115Z"
    },
    "papermill": {
     "duration": 0.100703,
     "end_time": "2021-04-14T16:17:11.316197",
     "exception": false,
     "start_time": "2021-04-14T16:17:11.215494",
     "status": "completed"
    },
    "tags": []
   },
   "outputs": [],
   "source": [
    "from sklearn.linear_model import LogisticRegression "
   ]
  },
  {
   "cell_type": "code",
   "execution_count": 90,
   "id": "textile-pavilion",
   "metadata": {
    "execution": {
     "iopub.execute_input": "2021-04-14T16:17:11.503296Z",
     "iopub.status.busy": "2021-04-14T16:17:11.502278Z",
     "iopub.status.idle": "2021-04-14T16:17:11.505904Z",
     "shell.execute_reply": "2021-04-14T16:17:11.506385Z"
    },
    "papermill": {
     "duration": 0.099251,
     "end_time": "2021-04-14T16:17:11.506563",
     "exception": false,
     "start_time": "2021-04-14T16:17:11.407312",
     "status": "completed"
    },
    "tags": []
   },
   "outputs": [],
   "source": [
    "import pickle"
   ]
  },
  {
   "cell_type": "code",
   "execution_count": 91,
   "id": "unusual-skirt",
   "metadata": {
    "execution": {
     "iopub.execute_input": "2021-04-14T16:17:11.699955Z",
     "iopub.status.busy": "2021-04-14T16:17:11.698986Z",
     "iopub.status.idle": "2021-04-14T16:17:11.703161Z",
     "shell.execute_reply": "2021-04-14T16:17:11.702443Z"
    },
    "papermill": {
     "duration": 0.104775,
     "end_time": "2021-04-14T16:17:11.703420",
     "exception": false,
     "start_time": "2021-04-14T16:17:11.598645",
     "status": "completed"
    },
    "tags": []
   },
   "outputs": [],
   "source": [
    "pickle.dump(location_encoder, open('location_encoder.pkl','wb'))"
   ]
  },
  {
   "cell_type": "code",
   "execution_count": 92,
   "id": "tender-granny",
   "metadata": {
    "execution": {
     "iopub.execute_input": "2021-04-14T16:17:11.899848Z",
     "iopub.status.busy": "2021-04-14T16:17:11.899033Z",
     "iopub.status.idle": "2021-04-14T16:17:11.902789Z",
     "shell.execute_reply": "2021-04-14T16:17:11.902066Z"
    },
    "papermill": {
     "duration": 0.102623,
     "end_time": "2021-04-14T16:17:11.902943",
     "exception": false,
     "start_time": "2021-04-14T16:17:11.800320",
     "status": "completed"
    },
    "tags": []
   },
   "outputs": [],
   "source": [
    "pickle.dump(area_encoder, open('area_encoder.pkl','wb'))"
   ]
  },
  {
   "cell_type": "code",
   "execution_count": 93,
   "id": "light-omaha",
   "metadata": {
    "execution": {
     "iopub.execute_input": "2021-04-14T16:17:12.150653Z",
     "iopub.status.busy": "2021-04-14T16:17:12.149955Z",
     "iopub.status.idle": "2021-04-14T16:17:12.154282Z",
     "shell.execute_reply": "2021-04-14T16:17:12.153371Z"
    },
    "papermill": {
     "duration": 0.103222,
     "end_time": "2021-04-14T16:17:12.154475",
     "exception": false,
     "start_time": "2021-04-14T16:17:12.051253",
     "status": "completed"
    },
    "tags": []
   },
   "outputs": [],
   "source": [
    "pickle.dump(ohe, open('ohe.pkl','wb'))"
   ]
  },
  {
   "cell_type": "code",
   "execution_count": 94,
   "id": "indoor-trinidad",
   "metadata": {
    "execution": {
     "iopub.execute_input": "2021-04-14T16:17:12.348154Z",
     "iopub.status.busy": "2021-04-14T16:17:12.347378Z",
     "iopub.status.idle": "2021-04-14T16:17:12.351777Z",
     "shell.execute_reply": "2021-04-14T16:17:12.351205Z"
    },
    "papermill": {
     "duration": 0.10214,
     "end_time": "2021-04-14T16:17:12.351931",
     "exception": false,
     "start_time": "2021-04-14T16:17:12.249791",
     "status": "completed"
    },
    "tags": []
   },
   "outputs": [],
   "source": [
    "pickle.dump(lr,open('model.pkl','wb'))"
   ]
  },
  {
   "cell_type": "code",
   "execution_count": 95,
   "id": "parallel-processor",
   "metadata": {
    "execution": {
     "iopub.execute_input": "2021-04-14T16:17:12.541990Z",
     "iopub.status.busy": "2021-04-14T16:17:12.540734Z",
     "iopub.status.idle": "2021-04-14T16:17:13.023068Z",
     "shell.execute_reply": "2021-04-14T16:17:13.022280Z"
    },
    "papermill": {
     "duration": 0.579723,
     "end_time": "2021-04-14T16:17:13.023234",
     "exception": false,
     "start_time": "2021-04-14T16:17:12.443511",
     "status": "completed"
    },
    "tags": []
   },
   "outputs": [],
   "source": [
    "pickle.dump(rfr,open('Rfrmodel.pkl','wb'))"
   ]
  },
  {
   "cell_type": "code",
   "execution_count": null,
   "id": "noble-spine",
   "metadata": {
    "papermill": {
     "duration": 0.094384,
     "end_time": "2021-04-14T16:17:13.212040",
     "exception": false,
     "start_time": "2021-04-14T16:17:13.117656",
     "status": "completed"
    },
    "tags": []
   },
   "outputs": [],
   "source": []
  }
 ],
 "metadata": {
  "kernelspec": {
   "display_name": "Python 3",
   "language": "python",
   "name": "python3"
  },
  "language_info": {
   "codemirror_mode": {
    "name": "ipython",
    "version": 3
   },
   "file_extension": ".py",
   "mimetype": "text/x-python",
   "name": "python",
   "nbconvert_exporter": "python",
   "pygments_lexer": "ipython3",
   "version": "3.7.9"
  },
  "papermill": {
   "default_parameters": {},
   "duration": 53.891357,
   "end_time": "2021-04-14T16:17:14.017827",
   "environment_variables": {},
   "exception": null,
   "input_path": "__notebook__.ipynb",
   "output_path": "__notebook__.ipynb",
   "parameters": {},
   "start_time": "2021-04-14T16:16:20.126470",
   "version": "2.3.2"
  }
 },
 "nbformat": 4,
 "nbformat_minor": 5
}
